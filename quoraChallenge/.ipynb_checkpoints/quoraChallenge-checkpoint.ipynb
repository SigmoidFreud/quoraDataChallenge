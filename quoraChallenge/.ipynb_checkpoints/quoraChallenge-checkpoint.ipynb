{
 "metadata": {
  "name": "",
  "signature": "sha256:a6817923d30f4cf4b13008f61e750ac9f35fefda866a402f59a1db62ee5e2219"
 },
 "nbformat": 3,
 "nbformat_minor": 0,
 "worksheets": [
  {
   "cells": [
    {
     "cell_type": "code",
     "collapsed": false,
     "input": [
      "import pandas as pd\n",
      "%matplotlib inline\n",
      "import matplotlib\n",
      "import matplotlib.pyplot as plt\n",
      "import numpy as np\n",
      "import sklearn as sk\n",
      "from sklearn import svm\n",
      "from sklearn.naive_bayes import GaussianNB\n",
      "from sklearn.naive_bayes import BernoulliNB\n",
      "from sklearn.ensemble import ExtraTreesClassifier\n",
      "from sklearn.tree import DecisionTreeClassifier\n",
      "from sklearn.ensemble import RandomForestClassifier\n",
      "from sklearn.linear_model import LogisticRegression"
     ],
     "language": "python",
     "metadata": {},
     "outputs": [],
     "prompt_number": 67
    },
    {
     "cell_type": "code",
     "collapsed": false,
     "input": [
      "# parse data into csv\n",
      "fl = \"input00.txt\"\n",
      "inputdata = \"input00.csv\"\n",
      "tst = \"test.txt\"\n",
      "testdata = \"test.csv\"\n",
      "output = \"output00.txt\"\n",
      "out = \"output.csv\"\n",
      "# data parser for input training data, and test data, and output\n",
      "with open(inputdata,'r+') as inp:\n",
      "    with open(fl) as f:\n",
      "        for line in enumerate(f):\n",
      "            if line[0] == 0:\n",
      "                train_num = int(line[1].split()[0])\n",
      "                continue\n",
      "            elif line[0] == 1:\n",
      "                inp.write(','.join(['id','score']+list(map(str, range(1,len(line[1].split())-1))))+'\\n')\n",
      "                inp.write(','.join(line[1].split()[:2]+[ sp.split(':')[1] for sp in line[1].split()[2:] ])+'\\n')\n",
      "            else:\n",
      "                inp.write(','.join(line[1].split()[:2]+[ sp.split(':')[1] for sp in line[1].split()[2:] ])+'\\n')\n",
      "            if line[0] == train_num:\n",
      "                break\n",
      "with open(testdata,'r+') as t:\n",
      "    with open(tst) as f:\n",
      "        for line in enumerate(f):\n",
      "            if line[0] == 0:\n",
      "                test_num = int(line[1].split()[0])\n",
      "                continue\n",
      "            elif line[0] == 1:\n",
      "                t.write(','.join(['id']+list(map(str, range(1,len(line[1].split())))))+'\\n')\n",
      "                t.write(','.join(line[1].split()[:1]+[ sp.split(':')[1] for sp in line[1].split()[1:] ])+'\\n')\n",
      "            else:\n",
      "                t.write(','.join(line[1].split()[:1]+[ sp.split(':')[1] for sp in line[1].split()[1:] ])+'\\n')\n",
      "with open(out,'r+') as o:\n",
      "    with open(output) as f:\n",
      "        for line in enumerate(f):\n",
      "            if line[0] == 0:\n",
      "                o.write(\"id,score\"+'\\n')\n",
      "                o.write(','.join(line[1].split())+'\\n')\n",
      "            else:\n",
      "                o.write(','.join(line[1].split())+'\\n')\n",
      "# i added the parsed data to github so it will be available through url\n",
      "# inputdata = \"https://raw.githubusercontent.com/SigmoidFreud/quoraDataChallenge/master/quoraChallenge/input00.csv\"\n",
      "# testdata = \"https://raw.githubusercontent.com/SigmoidFreud/quoraDataChallenge/master/quoraChallenge/test.csv\"\n",
      "# outputdata = \"https://raw.githubusercontent.com/SigmoidFreud/quoraDataChallenge/master/quoraChallenge/output.csv\""
     ],
     "language": "python",
     "metadata": {},
     "outputs": [],
     "prompt_number": 68
    },
    {
     "cell_type": "code",
     "collapsed": false,
     "input": [
      "df = pd.read_csv(inputdata)\n",
      "df_test = pd.read_csv(testdata)\n",
      "df_output = pd.read_csv(outputdata)\n",
      "# remove features 22,23 because they are the same for all answers\n",
      "df = df.drop(['22','23'],axis=1)\n",
      "df_test = df_test.drop(['22','23'],axis=1)"
     ],
     "language": "python",
     "metadata": {},
     "outputs": [],
     "prompt_number": 69
    },
    {
     "cell_type": "code",
     "collapsed": false,
     "input": [
      "features = df.drop(['id','score'],axis=1)"
     ],
     "language": "python",
     "metadata": {},
     "outputs": [],
     "prompt_number": 70
    },
    {
     "cell_type": "code",
     "collapsed": false,
     "input": [
      "df"
     ],
     "language": "python",
     "metadata": {},
     "outputs": [
      {
       "html": [
        "<div style=\"max-height:1000px;max-width:1500px;overflow:auto;\">\n",
        "<table border=\"1\" class=\"dataframe\">\n",
        "  <thead>\n",
        "    <tr style=\"text-align: right;\">\n",
        "      <th></th>\n",
        "      <th>id</th>\n",
        "      <th>score</th>\n",
        "      <th>1</th>\n",
        "      <th>2</th>\n",
        "      <th>3</th>\n",
        "      <th>4</th>\n",
        "      <th>5</th>\n",
        "      <th>6</th>\n",
        "      <th>7</th>\n",
        "      <th>8</th>\n",
        "      <th>...</th>\n",
        "      <th>12</th>\n",
        "      <th>13</th>\n",
        "      <th>14</th>\n",
        "      <th>15</th>\n",
        "      <th>16</th>\n",
        "      <th>17</th>\n",
        "      <th>18</th>\n",
        "      <th>19</th>\n",
        "      <th>20</th>\n",
        "      <th>21</th>\n",
        "    </tr>\n",
        "  </thead>\n",
        "  <tbody>\n",
        "    <tr>\n",
        "      <th>0   </th>\n",
        "      <td> Nt8FJ</td>\n",
        "      <td> 1</td>\n",
        "      <td> 12087620705283</td>\n",
        "      <td> 4.797982</td>\n",
        "      <td> 1</td>\n",
        "      <td> 4.990433</td>\n",
        "      <td> 6.492240</td>\n",
        "      <td> 80.000000</td>\n",
        "      <td> 0.000000</td>\n",
        "      <td> 0.000000</td>\n",
        "      <td>...</td>\n",
        "      <td>  0</td>\n",
        "      <td> 1</td>\n",
        "      <td> 0</td>\n",
        "      <td> 0</td>\n",
        "      <td> 1</td>\n",
        "      <td> 1</td>\n",
        "      <td> 0</td>\n",
        "      <td> 0</td>\n",
        "      <td> 14</td>\n",
        "      <td> 4.653960</td>\n",
        "    </tr>\n",
        "    <tr>\n",
        "      <th>1   </th>\n",
        "      <td> VCaTF</td>\n",
        "      <td> 1</td>\n",
        "      <td>   282114466020</td>\n",
        "      <td> 3.151926</td>\n",
        "      <td> 1</td>\n",
        "      <td> 3.737670</td>\n",
        "      <td> 3.891820</td>\n",
        "      <td> 83.000000</td>\n",
        "      <td> 0.000000</td>\n",
        "      <td> 0.000000</td>\n",
        "      <td>...</td>\n",
        "      <td>  0</td>\n",
        "      <td> 1</td>\n",
        "      <td> 0</td>\n",
        "      <td> 0</td>\n",
        "      <td> 1</td>\n",
        "      <td> 0</td>\n",
        "      <td> 0</td>\n",
        "      <td> 0</td>\n",
        "      <td>  2</td>\n",
        "      <td> 2.890372</td>\n",
        "    </tr>\n",
        "    <tr>\n",
        "      <th>2   </th>\n",
        "      <td> gParY</td>\n",
        "      <td> 1</td>\n",
        "      <td>      173284955</td>\n",
        "      <td> 1.785813</td>\n",
        "      <td> 1</td>\n",
        "      <td> 1.791759</td>\n",
        "      <td> 1.945910</td>\n",
        "      <td>  0.000000</td>\n",
        "      <td> 0.000000</td>\n",
        "      <td> 0.000000</td>\n",
        "      <td>...</td>\n",
        "      <td>  2</td>\n",
        "      <td> 1</td>\n",
        "      <td> 0</td>\n",
        "      <td> 0</td>\n",
        "      <td> 1</td>\n",
        "      <td> 0</td>\n",
        "      <td> 0</td>\n",
        "      <td> 0</td>\n",
        "      <td>  6</td>\n",
        "      <td> 3.637586</td>\n",
        "    </tr>\n",
        "    <tr>\n",
        "      <th>3   </th>\n",
        "      <td> DtWDw</td>\n",
        "      <td> 1</td>\n",
        "      <td>  4708728355523</td>\n",
        "      <td> 2.394989</td>\n",
        "      <td> 1</td>\n",
        "      <td> 3.091042</td>\n",
        "      <td> 2.890372</td>\n",
        "      <td>  0.000000</td>\n",
        "      <td> 0.000000</td>\n",
        "      <td> 0.000000</td>\n",
        "      <td>...</td>\n",
        "      <td>  8</td>\n",
        "      <td> 1</td>\n",
        "      <td> 0</td>\n",
        "      <td> 0</td>\n",
        "      <td> 1</td>\n",
        "      <td> 1</td>\n",
        "      <td> 0</td>\n",
        "      <td> 0</td>\n",
        "      <td>  5</td>\n",
        "      <td> 2.772589</td>\n",
        "    </tr>\n",
        "    <tr>\n",
        "      <th>4   </th>\n",
        "      <td> 4hUov</td>\n",
        "      <td> 1</td>\n",
        "      <td>     1459162488</td>\n",
        "      <td> 2.002920</td>\n",
        "      <td> 1</td>\n",
        "      <td> 4.836282</td>\n",
        "      <td> 4.158883</td>\n",
        "      <td>  0.000000</td>\n",
        "      <td> 0.000000</td>\n",
        "      <td> 0.000000</td>\n",
        "      <td>...</td>\n",
        "      <td> 10</td>\n",
        "      <td> 1</td>\n",
        "      <td> 0</td>\n",
        "      <td> 0</td>\n",
        "      <td> 1</td>\n",
        "      <td> 0</td>\n",
        "      <td> 0</td>\n",
        "      <td> 0</td>\n",
        "      <td>  7</td>\n",
        "      <td> 2.397895</td>\n",
        "    </tr>\n",
        "    <tr>\n",
        "      <th>5   </th>\n",
        "      <td> 4VnZH</td>\n",
        "      <td>-1</td>\n",
        "      <td>      747590455</td>\n",
        "      <td> 1.380899</td>\n",
        "      <td> 1</td>\n",
        "      <td> 3.091042</td>\n",
        "      <td> 2.397895</td>\n",
        "      <td>  0.000000</td>\n",
        "      <td> 0.000000</td>\n",
        "      <td> 0.000000</td>\n",
        "      <td>...</td>\n",
        "      <td>  0</td>\n",
        "      <td> 0</td>\n",
        "      <td> 0</td>\n",
        "      <td> 0</td>\n",
        "      <td> 0</td>\n",
        "      <td> 0</td>\n",
        "      <td> 0</td>\n",
        "      <td> 0</td>\n",
        "      <td>  2</td>\n",
        "      <td> 1.791759</td>\n",
        "    </tr>\n",
        "    <tr>\n",
        "      <th>6   </th>\n",
        "      <td> madOS</td>\n",
        "      <td> 1</td>\n",
        "      <td>    42438676159</td>\n",
        "      <td> 0.000000</td>\n",
        "      <td> 1</td>\n",
        "      <td> 4.488636</td>\n",
        "      <td> 3.912023</td>\n",
        "      <td> 65.000000</td>\n",
        "      <td> 0.000000</td>\n",
        "      <td> 0.000000</td>\n",
        "      <td>...</td>\n",
        "      <td>  4</td>\n",
        "      <td> 1</td>\n",
        "      <td> 0</td>\n",
        "      <td> 0</td>\n",
        "      <td> 0</td>\n",
        "      <td> 1</td>\n",
        "      <td> 0</td>\n",
        "      <td> 0</td>\n",
        "      <td>  0</td>\n",
        "      <td> 1.945910</td>\n",
        "    </tr>\n",
        "    <tr>\n",
        "      <th>7   </th>\n",
        "      <td> 6DvWu</td>\n",
        "      <td>-1</td>\n",
        "      <td> 14994168760886</td>\n",
        "      <td> 1.816477</td>\n",
        "      <td> 1</td>\n",
        "      <td> 0.693147</td>\n",
        "      <td> 1.386294</td>\n",
        "      <td>  0.000000</td>\n",
        "      <td> 0.000000</td>\n",
        "      <td> 0.000000</td>\n",
        "      <td>...</td>\n",
        "      <td>  1</td>\n",
        "      <td> 1</td>\n",
        "      <td> 0</td>\n",
        "      <td> 0</td>\n",
        "      <td> 0</td>\n",
        "      <td> 0</td>\n",
        "      <td> 1</td>\n",
        "      <td> 0</td>\n",
        "      <td>  3</td>\n",
        "      <td> 2.484907</td>\n",
        "    </tr>\n",
        "    <tr>\n",
        "      <th>8   </th>\n",
        "      <td> bvQwT</td>\n",
        "      <td> 1</td>\n",
        "      <td>  6888628852259</td>\n",
        "      <td> 3.009992</td>\n",
        "      <td> 1</td>\n",
        "      <td> 4.744932</td>\n",
        "      <td> 6.274762</td>\n",
        "      <td>  0.000000</td>\n",
        "      <td> 0.000000</td>\n",
        "      <td> 0.000000</td>\n",
        "      <td>...</td>\n",
        "      <td> 12</td>\n",
        "      <td> 1</td>\n",
        "      <td> 0</td>\n",
        "      <td> 0</td>\n",
        "      <td> 0</td>\n",
        "      <td> 1</td>\n",
        "      <td> 1</td>\n",
        "      <td> 0</td>\n",
        "      <td>  1</td>\n",
        "      <td> 2.079442</td>\n",
        "    </tr>\n",
        "    <tr>\n",
        "      <th>9   </th>\n",
        "      <td> Yyon1</td>\n",
        "      <td> 1</td>\n",
        "      <td>  5543511301254</td>\n",
        "      <td> 1.714707</td>\n",
        "      <td> 1</td>\n",
        "      <td> 3.135494</td>\n",
        "      <td> 3.295837</td>\n",
        "      <td>  0.000000</td>\n",
        "      <td> 0.000000</td>\n",
        "      <td> 0.000000</td>\n",
        "      <td>...</td>\n",
        "      <td>  1</td>\n",
        "      <td> 1</td>\n",
        "      <td> 0</td>\n",
        "      <td> 0</td>\n",
        "      <td> 1</td>\n",
        "      <td> 0</td>\n",
        "      <td> 0</td>\n",
        "      <td> 0</td>\n",
        "      <td>  3</td>\n",
        "      <td> 2.772589</td>\n",
        "    </tr>\n",
        "    <tr>\n",
        "      <th>10  </th>\n",
        "      <td> 67JDj</td>\n",
        "      <td> 1</td>\n",
        "      <td>      746701980</td>\n",
        "      <td> 2.591300</td>\n",
        "      <td> 1</td>\n",
        "      <td> 2.772589</td>\n",
        "      <td> 6.259581</td>\n",
        "      <td>  0.000000</td>\n",
        "      <td> 0.000000</td>\n",
        "      <td> 0.000000</td>\n",
        "      <td>...</td>\n",
        "      <td> 12</td>\n",
        "      <td> 0</td>\n",
        "      <td> 0</td>\n",
        "      <td> 0</td>\n",
        "      <td> 1</td>\n",
        "      <td> 1</td>\n",
        "      <td> 0</td>\n",
        "      <td> 0</td>\n",
        "      <td>  5</td>\n",
        "      <td> 3.988984</td>\n",
        "    </tr>\n",
        "    <tr>\n",
        "      <th>11  </th>\n",
        "      <td> AlzGR</td>\n",
        "      <td> 1</td>\n",
        "      <td>  6961101378430</td>\n",
        "      <td> 1.821645</td>\n",
        "      <td> 1</td>\n",
        "      <td> 4.672829</td>\n",
        "      <td> 5.669881</td>\n",
        "      <td>  0.000000</td>\n",
        "      <td> 0.000000</td>\n",
        "      <td> 0.000000</td>\n",
        "      <td>...</td>\n",
        "      <td>  3</td>\n",
        "      <td> 1</td>\n",
        "      <td> 0</td>\n",
        "      <td> 0</td>\n",
        "      <td> 0</td>\n",
        "      <td> 0</td>\n",
        "      <td> 1</td>\n",
        "      <td> 0</td>\n",
        "      <td>  2</td>\n",
        "      <td> 1.609438</td>\n",
        "    </tr>\n",
        "    <tr>\n",
        "      <th>12  </th>\n",
        "      <td> slQXh</td>\n",
        "      <td> 1</td>\n",
        "      <td>      634300857</td>\n",
        "      <td> 1.798752</td>\n",
        "      <td> 1</td>\n",
        "      <td> 4.663439</td>\n",
        "      <td> 4.934474</td>\n",
        "      <td> 81.428571</td>\n",
        "      <td> 0.000000</td>\n",
        "      <td> 0.000000</td>\n",
        "      <td>...</td>\n",
        "      <td>  0</td>\n",
        "      <td> 1</td>\n",
        "      <td> 0</td>\n",
        "      <td> 0</td>\n",
        "      <td> 1</td>\n",
        "      <td> 0</td>\n",
        "      <td> 1</td>\n",
        "      <td> 0</td>\n",
        "      <td>  2</td>\n",
        "      <td> 1.791759</td>\n",
        "    </tr>\n",
        "    <tr>\n",
        "      <th>13  </th>\n",
        "      <td> H8Mp6</td>\n",
        "      <td>-1</td>\n",
        "      <td>     1193643930</td>\n",
        "      <td> 0.000000</td>\n",
        "      <td> 0</td>\n",
        "      <td> 0.000000</td>\n",
        "      <td> 0.000000</td>\n",
        "      <td>  0.000000</td>\n",
        "      <td> 0.000000</td>\n",
        "      <td> 0.000000</td>\n",
        "      <td>...</td>\n",
        "      <td>  0</td>\n",
        "      <td> 1</td>\n",
        "      <td> 0</td>\n",
        "      <td> 1</td>\n",
        "      <td> 0</td>\n",
        "      <td> 0</td>\n",
        "      <td> 1</td>\n",
        "      <td> 0</td>\n",
        "      <td>  1</td>\n",
        "      <td> 1.386294</td>\n",
        "    </tr>\n",
        "    <tr>\n",
        "      <th>14  </th>\n",
        "      <td> LVIdc</td>\n",
        "      <td>-1</td>\n",
        "      <td>  1143394593947</td>\n",
        "      <td> 0.000000</td>\n",
        "      <td> 1</td>\n",
        "      <td> 6.265301</td>\n",
        "      <td> 7.186144</td>\n",
        "      <td> 70.000000</td>\n",
        "      <td> 0.000000</td>\n",
        "      <td> 1.711339</td>\n",
        "      <td>...</td>\n",
        "      <td>  0</td>\n",
        "      <td> 0</td>\n",
        "      <td> 0</td>\n",
        "      <td> 0</td>\n",
        "      <td> 1</td>\n",
        "      <td> 0</td>\n",
        "      <td> 0</td>\n",
        "      <td> 0</td>\n",
        "      <td>  8</td>\n",
        "      <td> 3.465736</td>\n",
        "    </tr>\n",
        "    <tr>\n",
        "      <th>15  </th>\n",
        "      <td> RiH8z</td>\n",
        "      <td> 1</td>\n",
        "      <td>  1165699134125</td>\n",
        "      <td> 3.319049</td>\n",
        "      <td> 1</td>\n",
        "      <td> 4.219508</td>\n",
        "      <td> 4.094345</td>\n",
        "      <td> 92.857143</td>\n",
        "      <td> 0.000000</td>\n",
        "      <td> 0.000000</td>\n",
        "      <td>...</td>\n",
        "      <td>  0</td>\n",
        "      <td> 1</td>\n",
        "      <td> 0</td>\n",
        "      <td> 0</td>\n",
        "      <td> 0</td>\n",
        "      <td> 0</td>\n",
        "      <td> 0</td>\n",
        "      <td> 0</td>\n",
        "      <td> 15</td>\n",
        "      <td> 5.062595</td>\n",
        "    </tr>\n",
        "    <tr>\n",
        "      <th>16  </th>\n",
        "      <td> kQOe4</td>\n",
        "      <td>-1</td>\n",
        "      <td> 29846045584236</td>\n",
        "      <td> 0.000000</td>\n",
        "      <td> 1</td>\n",
        "      <td> 4.219508</td>\n",
        "      <td> 4.624973</td>\n",
        "      <td> 66.000000</td>\n",
        "      <td> 0.000000</td>\n",
        "      <td> 1.190382</td>\n",
        "      <td>...</td>\n",
        "      <td>  0</td>\n",
        "      <td> 1</td>\n",
        "      <td> 0</td>\n",
        "      <td> 1</td>\n",
        "      <td> 0</td>\n",
        "      <td> 0</td>\n",
        "      <td> 1</td>\n",
        "      <td> 0</td>\n",
        "      <td>  1</td>\n",
        "      <td> 2.079442</td>\n",
        "    </tr>\n",
        "    <tr>\n",
        "      <th>17  </th>\n",
        "      <td> x912c</td>\n",
        "      <td>-1</td>\n",
        "      <td>  1965531399827</td>\n",
        "      <td> 0.000000</td>\n",
        "      <td> 1</td>\n",
        "      <td> 4.189655</td>\n",
        "      <td> 3.526361</td>\n",
        "      <td>  0.000000</td>\n",
        "      <td> 0.000000</td>\n",
        "      <td> 0.000000</td>\n",
        "      <td>...</td>\n",
        "      <td>  6</td>\n",
        "      <td> 1</td>\n",
        "      <td> 0</td>\n",
        "      <td> 0</td>\n",
        "      <td> 1</td>\n",
        "      <td> 0</td>\n",
        "      <td> 1</td>\n",
        "      <td> 0</td>\n",
        "      <td>  4</td>\n",
        "      <td> 3.044522</td>\n",
        "    </tr>\n",
        "    <tr>\n",
        "      <th>18  </th>\n",
        "      <td> tmppP</td>\n",
        "      <td>-1</td>\n",
        "      <td>   794866883218</td>\n",
        "      <td> 0.000000</td>\n",
        "      <td> 1</td>\n",
        "      <td> 3.637586</td>\n",
        "      <td> 4.174387</td>\n",
        "      <td> 75.000000</td>\n",
        "      <td> 0.000000</td>\n",
        "      <td> 0.000000</td>\n",
        "      <td>...</td>\n",
        "      <td>  0</td>\n",
        "      <td> 1</td>\n",
        "      <td> 0</td>\n",
        "      <td> 0</td>\n",
        "      <td> 1</td>\n",
        "      <td> 1</td>\n",
        "      <td> 0</td>\n",
        "      <td> 0</td>\n",
        "      <td> 47</td>\n",
        "      <td> 5.874931</td>\n",
        "    </tr>\n",
        "    <tr>\n",
        "      <th>19  </th>\n",
        "      <td> ymv87</td>\n",
        "      <td>-1</td>\n",
        "      <td>  4616624265449</td>\n",
        "      <td> 4.011195</td>\n",
        "      <td> 1</td>\n",
        "      <td> 3.951244</td>\n",
        "      <td> 4.158883</td>\n",
        "      <td>  0.000000</td>\n",
        "      <td> 0.000000</td>\n",
        "      <td> 0.000000</td>\n",
        "      <td>...</td>\n",
        "      <td>  0</td>\n",
        "      <td> 1</td>\n",
        "      <td> 0</td>\n",
        "      <td> 0</td>\n",
        "      <td> 1</td>\n",
        "      <td> 1</td>\n",
        "      <td> 0</td>\n",
        "      <td> 0</td>\n",
        "      <td>  2</td>\n",
        "      <td> 2.079442</td>\n",
        "    </tr>\n",
        "    <tr>\n",
        "      <th>20  </th>\n",
        "      <td> QFIPm</td>\n",
        "      <td> 1</td>\n",
        "      <td>  1600707566246</td>\n",
        "      <td> 1.960632</td>\n",
        "      <td> 1</td>\n",
        "      <td> 4.304065</td>\n",
        "      <td> 4.262680</td>\n",
        "      <td>  0.000000</td>\n",
        "      <td> 0.000000</td>\n",
        "      <td> 0.000000</td>\n",
        "      <td>...</td>\n",
        "      <td>  0</td>\n",
        "      <td> 1</td>\n",
        "      <td> 0</td>\n",
        "      <td> 1</td>\n",
        "      <td> 0</td>\n",
        "      <td> 1</td>\n",
        "      <td> 3</td>\n",
        "      <td> 0</td>\n",
        "      <td> 27</td>\n",
        "      <td> 3.713572</td>\n",
        "    </tr>\n",
        "    <tr>\n",
        "      <th>21  </th>\n",
        "      <td> aTGEA</td>\n",
        "      <td> 1</td>\n",
        "      <td>  1581262079607</td>\n",
        "      <td> 2.702326</td>\n",
        "      <td> 1</td>\n",
        "      <td> 5.117994</td>\n",
        "      <td> 5.068904</td>\n",
        "      <td> 73.000000</td>\n",
        "      <td> 0.000000</td>\n",
        "      <td> 0.000000</td>\n",
        "      <td>...</td>\n",
        "      <td>  5</td>\n",
        "      <td> 1</td>\n",
        "      <td> 0</td>\n",
        "      <td> 0</td>\n",
        "      <td> 1</td>\n",
        "      <td> 1</td>\n",
        "      <td> 0</td>\n",
        "      <td> 0</td>\n",
        "      <td>  3</td>\n",
        "      <td> 2.772589</td>\n",
        "    </tr>\n",
        "    <tr>\n",
        "      <th>22  </th>\n",
        "      <td> W94Mt</td>\n",
        "      <td>-1</td>\n",
        "      <td>     8400363511</td>\n",
        "      <td> 3.055082</td>\n",
        "      <td> 1</td>\n",
        "      <td> 4.418841</td>\n",
        "      <td> 4.867534</td>\n",
        "      <td>  0.000000</td>\n",
        "      <td> 0.000000</td>\n",
        "      <td> 0.000000</td>\n",
        "      <td>...</td>\n",
        "      <td>  1</td>\n",
        "      <td> 1</td>\n",
        "      <td> 0</td>\n",
        "      <td> 1</td>\n",
        "      <td> 0</td>\n",
        "      <td> 0</td>\n",
        "      <td> 0</td>\n",
        "      <td> 0</td>\n",
        "      <td>  1</td>\n",
        "      <td> 2.197225</td>\n",
        "    </tr>\n",
        "    <tr>\n",
        "      <th>23  </th>\n",
        "      <td> uFu7U</td>\n",
        "      <td> 1</td>\n",
        "      <td>  4535849186693</td>\n",
        "      <td> 0.000000</td>\n",
        "      <td> 1</td>\n",
        "      <td> 3.526361</td>\n",
        "      <td> 3.044522</td>\n",
        "      <td>  0.000000</td>\n",
        "      <td> 0.000000</td>\n",
        "      <td> 0.000000</td>\n",
        "      <td>...</td>\n",
        "      <td>  2</td>\n",
        "      <td> 1</td>\n",
        "      <td> 0</td>\n",
        "      <td> 0</td>\n",
        "      <td> 1</td>\n",
        "      <td> 0</td>\n",
        "      <td> 0</td>\n",
        "      <td> 0</td>\n",
        "      <td>  3</td>\n",
        "      <td> 1.945910</td>\n",
        "    </tr>\n",
        "    <tr>\n",
        "      <th>24  </th>\n",
        "      <td> Pmn8R</td>\n",
        "      <td>-1</td>\n",
        "      <td>  7711910472669</td>\n",
        "      <td> 0.000000</td>\n",
        "      <td> 1</td>\n",
        "      <td> 3.555348</td>\n",
        "      <td> 3.951244</td>\n",
        "      <td> 62.857143</td>\n",
        "      <td> 0.000000</td>\n",
        "      <td> 0.000000</td>\n",
        "      <td>...</td>\n",
        "      <td> 55</td>\n",
        "      <td> 1</td>\n",
        "      <td> 0</td>\n",
        "      <td> 0</td>\n",
        "      <td> 1</td>\n",
        "      <td> 1</td>\n",
        "      <td> 0</td>\n",
        "      <td> 0</td>\n",
        "      <td>  5</td>\n",
        "      <td> 2.890372</td>\n",
        "    </tr>\n",
        "    <tr>\n",
        "      <th>25  </th>\n",
        "      <td> Vanub</td>\n",
        "      <td>-1</td>\n",
        "      <td>   265871608147</td>\n",
        "      <td> 0.000000</td>\n",
        "      <td> 1</td>\n",
        "      <td> 4.852030</td>\n",
        "      <td> 5.831882</td>\n",
        "      <td>  0.000000</td>\n",
        "      <td> 0.000000</td>\n",
        "      <td> 0.000000</td>\n",
        "      <td>...</td>\n",
        "      <td>  3</td>\n",
        "      <td> 0</td>\n",
        "      <td> 0</td>\n",
        "      <td> 0</td>\n",
        "      <td> 0</td>\n",
        "      <td> 1</td>\n",
        "      <td> 0</td>\n",
        "      <td> 0</td>\n",
        "      <td>  7</td>\n",
        "      <td> 2.302585</td>\n",
        "    </tr>\n",
        "    <tr>\n",
        "      <th>26  </th>\n",
        "      <td> ThCxD</td>\n",
        "      <td>-1</td>\n",
        "      <td>  6369495493863</td>\n",
        "      <td> 1.337714</td>\n",
        "      <td> 1</td>\n",
        "      <td> 3.135494</td>\n",
        "      <td> 3.044522</td>\n",
        "      <td>  0.000000</td>\n",
        "      <td> 0.000000</td>\n",
        "      <td> 0.000000</td>\n",
        "      <td>...</td>\n",
        "      <td>  2</td>\n",
        "      <td> 1</td>\n",
        "      <td> 0</td>\n",
        "      <td> 0</td>\n",
        "      <td> 1</td>\n",
        "      <td> 0</td>\n",
        "      <td> 0</td>\n",
        "      <td> 0</td>\n",
        "      <td>  8</td>\n",
        "      <td> 2.772589</td>\n",
        "    </tr>\n",
        "    <tr>\n",
        "      <th>27  </th>\n",
        "      <td> ChNxD</td>\n",
        "      <td>-1</td>\n",
        "      <td>     1320214998</td>\n",
        "      <td> 1.117460</td>\n",
        "      <td> 1</td>\n",
        "      <td> 1.609438</td>\n",
        "      <td> 1.098612</td>\n",
        "      <td>  0.000000</td>\n",
        "      <td> 3.005259</td>\n",
        "      <td> 5.050507</td>\n",
        "      <td>...</td>\n",
        "      <td>  2</td>\n",
        "      <td> 1</td>\n",
        "      <td> 0</td>\n",
        "      <td> 0</td>\n",
        "      <td> 0</td>\n",
        "      <td> 1</td>\n",
        "      <td> 1</td>\n",
        "      <td> 0</td>\n",
        "      <td>  1</td>\n",
        "      <td> 2.995732</td>\n",
        "    </tr>\n",
        "    <tr>\n",
        "      <th>28  </th>\n",
        "      <td> UiWMg</td>\n",
        "      <td>-1</td>\n",
        "      <td>  1206884885857</td>\n",
        "      <td> 3.085500</td>\n",
        "      <td> 1</td>\n",
        "      <td> 4.317488</td>\n",
        "      <td> 4.025352</td>\n",
        "      <td>  0.000000</td>\n",
        "      <td> 0.000000</td>\n",
        "      <td> 0.000000</td>\n",
        "      <td>...</td>\n",
        "      <td>  3</td>\n",
        "      <td> 1</td>\n",
        "      <td> 0</td>\n",
        "      <td> 0</td>\n",
        "      <td> 1</td>\n",
        "      <td> 0</td>\n",
        "      <td> 0</td>\n",
        "      <td> 0</td>\n",
        "      <td>  4</td>\n",
        "      <td> 2.484907</td>\n",
        "    </tr>\n",
        "    <tr>\n",
        "      <th>29  </th>\n",
        "      <td> naiXA</td>\n",
        "      <td> 1</td>\n",
        "      <td>  1222073882654</td>\n",
        "      <td> 1.832085</td>\n",
        "      <td> 1</td>\n",
        "      <td> 1.791759</td>\n",
        "      <td> 2.397895</td>\n",
        "      <td>  0.000000</td>\n",
        "      <td> 0.000000</td>\n",
        "      <td> 0.000000</td>\n",
        "      <td>...</td>\n",
        "      <td>  5</td>\n",
        "      <td> 1</td>\n",
        "      <td> 0</td>\n",
        "      <td> 0</td>\n",
        "      <td> 1</td>\n",
        "      <td> 0</td>\n",
        "      <td> 0</td>\n",
        "      <td> 0</td>\n",
        "      <td>  3</td>\n",
        "      <td> 2.484907</td>\n",
        "    </tr>\n",
        "    <tr>\n",
        "      <th>...</th>\n",
        "      <td>...</td>\n",
        "      <td>...</td>\n",
        "      <td>...</td>\n",
        "      <td>...</td>\n",
        "      <td>...</td>\n",
        "      <td>...</td>\n",
        "      <td>...</td>\n",
        "      <td>...</td>\n",
        "      <td>...</td>\n",
        "      <td>...</td>\n",
        "      <td>...</td>\n",
        "      <td>...</td>\n",
        "      <td>...</td>\n",
        "      <td>...</td>\n",
        "      <td>...</td>\n",
        "      <td>...</td>\n",
        "      <td>...</td>\n",
        "      <td>...</td>\n",
        "      <td>...</td>\n",
        "      <td>...</td>\n",
        "      <td>...</td>\n",
        "    </tr>\n",
        "    <tr>\n",
        "      <th>4470</th>\n",
        "      <td> b9nDC</td>\n",
        "      <td>-1</td>\n",
        "      <td>     1641391111</td>\n",
        "      <td> 1.320091</td>\n",
        "      <td> 0</td>\n",
        "      <td> 1.386294</td>\n",
        "      <td> 1.098612</td>\n",
        "      <td>  0.000000</td>\n",
        "      <td> 0.000000</td>\n",
        "      <td> 0.000000</td>\n",
        "      <td>...</td>\n",
        "      <td>  0</td>\n",
        "      <td> 1</td>\n",
        "      <td> 0</td>\n",
        "      <td> 0</td>\n",
        "      <td> 0</td>\n",
        "      <td> 0</td>\n",
        "      <td> 1</td>\n",
        "      <td> 0</td>\n",
        "      <td>  1</td>\n",
        "      <td> 2.079442</td>\n",
        "    </tr>\n",
        "    <tr>\n",
        "      <th>4471</th>\n",
        "      <td> ORZLA</td>\n",
        "      <td>-1</td>\n",
        "      <td>  1665341219033</td>\n",
        "      <td> 0.000000</td>\n",
        "      <td> 1</td>\n",
        "      <td> 3.828641</td>\n",
        "      <td> 2.995732</td>\n",
        "      <td> 14.000000</td>\n",
        "      <td> 0.000000</td>\n",
        "      <td> 0.000000</td>\n",
        "      <td>...</td>\n",
        "      <td>  1</td>\n",
        "      <td> 0</td>\n",
        "      <td> 0</td>\n",
        "      <td> 1</td>\n",
        "      <td> 0</td>\n",
        "      <td> 0</td>\n",
        "      <td> 0</td>\n",
        "      <td> 0</td>\n",
        "      <td> 13</td>\n",
        "      <td> 4.663439</td>\n",
        "    </tr>\n",
        "    <tr>\n",
        "      <th>4472</th>\n",
        "      <td> MafxV</td>\n",
        "      <td>-1</td>\n",
        "      <td> 22043513065611</td>\n",
        "      <td> 4.007287</td>\n",
        "      <td> 1</td>\n",
        "      <td> 3.135494</td>\n",
        "      <td> 4.941642</td>\n",
        "      <td> 75.000000</td>\n",
        "      <td> 0.000000</td>\n",
        "      <td> 0.000000</td>\n",
        "      <td>...</td>\n",
        "      <td>  4</td>\n",
        "      <td> 1</td>\n",
        "      <td> 0</td>\n",
        "      <td> 0</td>\n",
        "      <td> 1</td>\n",
        "      <td> 1</td>\n",
        "      <td> 0</td>\n",
        "      <td> 0</td>\n",
        "      <td>  5</td>\n",
        "      <td> 3.218876</td>\n",
        "    </tr>\n",
        "    <tr>\n",
        "      <th>4473</th>\n",
        "      <td> 0Rf93</td>\n",
        "      <td> 1</td>\n",
        "      <td>  8300710882953</td>\n",
        "      <td> 1.759738</td>\n",
        "      <td> 1</td>\n",
        "      <td> 4.595120</td>\n",
        "      <td> 5.641907</td>\n",
        "      <td>  0.000000</td>\n",
        "      <td> 0.000000</td>\n",
        "      <td> 0.000000</td>\n",
        "      <td>...</td>\n",
        "      <td>  6</td>\n",
        "      <td> 1</td>\n",
        "      <td> 0</td>\n",
        "      <td> 0</td>\n",
        "      <td> 0</td>\n",
        "      <td> 0</td>\n",
        "      <td> 0</td>\n",
        "      <td> 0</td>\n",
        "      <td> 10</td>\n",
        "      <td> 3.295837</td>\n",
        "    </tr>\n",
        "    <tr>\n",
        "      <th>4474</th>\n",
        "      <td> Ac7Lk</td>\n",
        "      <td>-1</td>\n",
        "      <td>    93673761035</td>\n",
        "      <td> 1.352006</td>\n",
        "      <td> 1</td>\n",
        "      <td> 2.890372</td>\n",
        "      <td> 2.890372</td>\n",
        "      <td>  0.000000</td>\n",
        "      <td> 3.086259</td>\n",
        "      <td> 0.000000</td>\n",
        "      <td>...</td>\n",
        "      <td>  0</td>\n",
        "      <td> 1</td>\n",
        "      <td> 0</td>\n",
        "      <td> 0</td>\n",
        "      <td> 0</td>\n",
        "      <td> 0</td>\n",
        "      <td> 0</td>\n",
        "      <td> 0</td>\n",
        "      <td> 17</td>\n",
        "      <td> 3.258097</td>\n",
        "    </tr>\n",
        "    <tr>\n",
        "      <th>4475</th>\n",
        "      <td> 5LqX8</td>\n",
        "      <td> 1</td>\n",
        "      <td>  4458602958583</td>\n",
        "      <td> 1.733859</td>\n",
        "      <td> 1</td>\n",
        "      <td> 3.828641</td>\n",
        "      <td> 3.258097</td>\n",
        "      <td>  0.000000</td>\n",
        "      <td> 0.000000</td>\n",
        "      <td> 0.000000</td>\n",
        "      <td>...</td>\n",
        "      <td>  2</td>\n",
        "      <td> 1</td>\n",
        "      <td> 0</td>\n",
        "      <td> 0</td>\n",
        "      <td> 1</td>\n",
        "      <td> 0</td>\n",
        "      <td> 0</td>\n",
        "      <td> 0</td>\n",
        "      <td>  3</td>\n",
        "      <td> 2.079442</td>\n",
        "    </tr>\n",
        "    <tr>\n",
        "      <th>4476</th>\n",
        "      <td> oYEWg</td>\n",
        "      <td>-1</td>\n",
        "      <td>  3724855241505</td>\n",
        "      <td> 0.000000</td>\n",
        "      <td> 1</td>\n",
        "      <td> 2.708050</td>\n",
        "      <td> 1.386294</td>\n",
        "      <td>  0.000000</td>\n",
        "      <td> 0.000000</td>\n",
        "      <td> 0.000000</td>\n",
        "      <td>...</td>\n",
        "      <td>  2</td>\n",
        "      <td> 0</td>\n",
        "      <td> 0</td>\n",
        "      <td> 1</td>\n",
        "      <td> 1</td>\n",
        "      <td> 0</td>\n",
        "      <td> 0</td>\n",
        "      <td> 0</td>\n",
        "      <td>  0</td>\n",
        "      <td> 1.386294</td>\n",
        "    </tr>\n",
        "    <tr>\n",
        "      <th>4477</th>\n",
        "      <td> E8OZB</td>\n",
        "      <td>-1</td>\n",
        "      <td>  2760160029259</td>\n",
        "      <td> 1.648062</td>\n",
        "      <td> 1</td>\n",
        "      <td> 3.871201</td>\n",
        "      <td> 3.850148</td>\n",
        "      <td> 71.666667</td>\n",
        "      <td> 0.000000</td>\n",
        "      <td> 0.000000</td>\n",
        "      <td>...</td>\n",
        "      <td>  0</td>\n",
        "      <td> 1</td>\n",
        "      <td> 0</td>\n",
        "      <td> 0</td>\n",
        "      <td> 1</td>\n",
        "      <td> 0</td>\n",
        "      <td> 0</td>\n",
        "      <td> 0</td>\n",
        "      <td>  2</td>\n",
        "      <td> 1.609438</td>\n",
        "    </tr>\n",
        "    <tr>\n",
        "      <th>4478</th>\n",
        "      <td> Uri4N</td>\n",
        "      <td> 1</td>\n",
        "      <td>  3624976390410</td>\n",
        "      <td> 2.575441</td>\n",
        "      <td> 1</td>\n",
        "      <td> 4.143135</td>\n",
        "      <td> 3.713572</td>\n",
        "      <td>  0.000000</td>\n",
        "      <td> 0.000000</td>\n",
        "      <td> 0.000000</td>\n",
        "      <td>...</td>\n",
        "      <td>  3</td>\n",
        "      <td> 1</td>\n",
        "      <td> 0</td>\n",
        "      <td> 0</td>\n",
        "      <td> 0</td>\n",
        "      <td> 1</td>\n",
        "      <td> 1</td>\n",
        "      <td> 0</td>\n",
        "      <td>  2</td>\n",
        "      <td> 1.386294</td>\n",
        "    </tr>\n",
        "    <tr>\n",
        "      <th>4479</th>\n",
        "      <td> WR6WC</td>\n",
        "      <td> 1</td>\n",
        "      <td>  7210393844467</td>\n",
        "      <td> 2.290162</td>\n",
        "      <td> 1</td>\n",
        "      <td> 4.248495</td>\n",
        "      <td> 4.094345</td>\n",
        "      <td>  0.000000</td>\n",
        "      <td> 0.000000</td>\n",
        "      <td> 0.000000</td>\n",
        "      <td>...</td>\n",
        "      <td>  2</td>\n",
        "      <td> 1</td>\n",
        "      <td> 0</td>\n",
        "      <td> 0</td>\n",
        "      <td> 0</td>\n",
        "      <td> 0</td>\n",
        "      <td> 0</td>\n",
        "      <td> 0</td>\n",
        "      <td>  1</td>\n",
        "      <td> 1.386294</td>\n",
        "    </tr>\n",
        "    <tr>\n",
        "      <th>4480</th>\n",
        "      <td> buGRO</td>\n",
        "      <td>-1</td>\n",
        "      <td>     1520303006</td>\n",
        "      <td> 0.000000</td>\n",
        "      <td> 1</td>\n",
        "      <td> 2.833213</td>\n",
        "      <td> 3.135494</td>\n",
        "      <td>  0.000000</td>\n",
        "      <td> 0.000000</td>\n",
        "      <td> 0.000000</td>\n",
        "      <td>...</td>\n",
        "      <td>  0</td>\n",
        "      <td> 0</td>\n",
        "      <td> 0</td>\n",
        "      <td> 0</td>\n",
        "      <td> 0</td>\n",
        "      <td> 1</td>\n",
        "      <td> 0</td>\n",
        "      <td> 0</td>\n",
        "      <td>  1</td>\n",
        "      <td> 1.609438</td>\n",
        "    </tr>\n",
        "    <tr>\n",
        "      <th>4481</th>\n",
        "      <td> a7mCH</td>\n",
        "      <td> 1</td>\n",
        "      <td>     1452002595</td>\n",
        "      <td> 2.211533</td>\n",
        "      <td> 1</td>\n",
        "      <td> 1.098612</td>\n",
        "      <td> 1.791759</td>\n",
        "      <td>  0.000000</td>\n",
        "      <td> 0.000000</td>\n",
        "      <td> 0.000000</td>\n",
        "      <td>...</td>\n",
        "      <td>  2</td>\n",
        "      <td> 1</td>\n",
        "      <td> 0</td>\n",
        "      <td> 0</td>\n",
        "      <td> 1</td>\n",
        "      <td> 0</td>\n",
        "      <td> 0</td>\n",
        "      <td> 0</td>\n",
        "      <td>  3</td>\n",
        "      <td> 2.197225</td>\n",
        "    </tr>\n",
        "    <tr>\n",
        "      <th>4482</th>\n",
        "      <td> 20qlt</td>\n",
        "      <td>-1</td>\n",
        "      <td>  6663516327573</td>\n",
        "      <td> 1.037108</td>\n",
        "      <td> 1</td>\n",
        "      <td> 4.043051</td>\n",
        "      <td> 3.931826</td>\n",
        "      <td>  0.000000</td>\n",
        "      <td> 0.000000</td>\n",
        "      <td> 0.000000</td>\n",
        "      <td>...</td>\n",
        "      <td>  0</td>\n",
        "      <td> 1</td>\n",
        "      <td> 0</td>\n",
        "      <td> 0</td>\n",
        "      <td> 0</td>\n",
        "      <td> 0</td>\n",
        "      <td> 0</td>\n",
        "      <td> 0</td>\n",
        "      <td> 18</td>\n",
        "      <td> 5.192957</td>\n",
        "    </tr>\n",
        "    <tr>\n",
        "      <th>4483</th>\n",
        "      <td> dlYgA</td>\n",
        "      <td> 1</td>\n",
        "      <td>     5938253819</td>\n",
        "      <td> 2.114951</td>\n",
        "      <td> 1</td>\n",
        "      <td> 4.488636</td>\n",
        "      <td> 4.753590</td>\n",
        "      <td>  0.000000</td>\n",
        "      <td> 0.000000</td>\n",
        "      <td> 0.000000</td>\n",
        "      <td>...</td>\n",
        "      <td>  4</td>\n",
        "      <td> 1</td>\n",
        "      <td> 0</td>\n",
        "      <td> 0</td>\n",
        "      <td> 1</td>\n",
        "      <td> 0</td>\n",
        "      <td> 0</td>\n",
        "      <td> 0</td>\n",
        "      <td>  3</td>\n",
        "      <td> 1.791759</td>\n",
        "    </tr>\n",
        "    <tr>\n",
        "      <th>4484</th>\n",
        "      <td> MAveZ</td>\n",
        "      <td> 1</td>\n",
        "      <td>  6553140750744</td>\n",
        "      <td> 0.000000</td>\n",
        "      <td> 1</td>\n",
        "      <td> 4.584967</td>\n",
        "      <td> 5.214936</td>\n",
        "      <td> 28.000000</td>\n",
        "      <td> 0.000000</td>\n",
        "      <td> 0.000000</td>\n",
        "      <td>...</td>\n",
        "      <td>  6</td>\n",
        "      <td> 0</td>\n",
        "      <td> 0</td>\n",
        "      <td> 0</td>\n",
        "      <td> 0</td>\n",
        "      <td> 1</td>\n",
        "      <td> 1</td>\n",
        "      <td> 0</td>\n",
        "      <td> 96</td>\n",
        "      <td> 6.345636</td>\n",
        "    </tr>\n",
        "    <tr>\n",
        "      <th>4485</th>\n",
        "      <td> Q99xZ</td>\n",
        "      <td>-1</td>\n",
        "      <td>   606626979627</td>\n",
        "      <td> 0.000000</td>\n",
        "      <td> 1</td>\n",
        "      <td> 3.828641</td>\n",
        "      <td> 3.555348</td>\n",
        "      <td>  0.000000</td>\n",
        "      <td> 0.000000</td>\n",
        "      <td> 0.000000</td>\n",
        "      <td>...</td>\n",
        "      <td>  0</td>\n",
        "      <td> 0</td>\n",
        "      <td> 0</td>\n",
        "      <td> 1</td>\n",
        "      <td> 0</td>\n",
        "      <td> 0</td>\n",
        "      <td> 0</td>\n",
        "      <td> 0</td>\n",
        "      <td>  3</td>\n",
        "      <td> 2.833213</td>\n",
        "    </tr>\n",
        "    <tr>\n",
        "      <th>4486</th>\n",
        "      <td> QtsWd</td>\n",
        "      <td> 1</td>\n",
        "      <td>     2469740146</td>\n",
        "      <td> 1.425702</td>\n",
        "      <td> 1</td>\n",
        "      <td> 1.609438</td>\n",
        "      <td> 1.609438</td>\n",
        "      <td>  0.000000</td>\n",
        "      <td> 0.000000</td>\n",
        "      <td> 0.000000</td>\n",
        "      <td>...</td>\n",
        "      <td>  3</td>\n",
        "      <td> 1</td>\n",
        "      <td> 0</td>\n",
        "      <td> 0</td>\n",
        "      <td> 1</td>\n",
        "      <td> 0</td>\n",
        "      <td> 0</td>\n",
        "      <td> 0</td>\n",
        "      <td>  6</td>\n",
        "      <td> 3.258097</td>\n",
        "    </tr>\n",
        "    <tr>\n",
        "      <th>4487</th>\n",
        "      <td> oR8YR</td>\n",
        "      <td> 1</td>\n",
        "      <td>      130111071</td>\n",
        "      <td> 0.000000</td>\n",
        "      <td> 1</td>\n",
        "      <td> 1.386294</td>\n",
        "      <td> 3.912023</td>\n",
        "      <td> 97.000000</td>\n",
        "      <td> 0.000000</td>\n",
        "      <td> 0.000000</td>\n",
        "      <td>...</td>\n",
        "      <td>  0</td>\n",
        "      <td> 1</td>\n",
        "      <td> 0</td>\n",
        "      <td> 0</td>\n",
        "      <td> 1</td>\n",
        "      <td> 0</td>\n",
        "      <td> 0</td>\n",
        "      <td> 0</td>\n",
        "      <td>  1</td>\n",
        "      <td> 2.079442</td>\n",
        "    </tr>\n",
        "    <tr>\n",
        "      <th>4488</th>\n",
        "      <td> pCOZa</td>\n",
        "      <td> 1</td>\n",
        "      <td>  9009634827881</td>\n",
        "      <td> 1.731858</td>\n",
        "      <td> 1</td>\n",
        "      <td> 4.025352</td>\n",
        "      <td> 4.465908</td>\n",
        "      <td> 65.714286</td>\n",
        "      <td> 0.000000</td>\n",
        "      <td> 0.000000</td>\n",
        "      <td>...</td>\n",
        "      <td>  1</td>\n",
        "      <td> 1</td>\n",
        "      <td> 0</td>\n",
        "      <td> 0</td>\n",
        "      <td> 0</td>\n",
        "      <td> 0</td>\n",
        "      <td> 1</td>\n",
        "      <td> 0</td>\n",
        "      <td>  8</td>\n",
        "      <td> 2.772589</td>\n",
        "    </tr>\n",
        "    <tr>\n",
        "      <th>4489</th>\n",
        "      <td> bYTgu</td>\n",
        "      <td>-1</td>\n",
        "      <td>  1795756880404</td>\n",
        "      <td> 1.699319</td>\n",
        "      <td> 1</td>\n",
        "      <td> 4.820282</td>\n",
        "      <td> 9.043341</td>\n",
        "      <td>  0.000000</td>\n",
        "      <td> 0.000000</td>\n",
        "      <td> 0.000000</td>\n",
        "      <td>...</td>\n",
        "      <td>  1</td>\n",
        "      <td> 1</td>\n",
        "      <td> 1</td>\n",
        "      <td> 0</td>\n",
        "      <td> 0</td>\n",
        "      <td> 0</td>\n",
        "      <td> 0</td>\n",
        "      <td> 0</td>\n",
        "      <td>  3</td>\n",
        "      <td> 1.609438</td>\n",
        "    </tr>\n",
        "    <tr>\n",
        "      <th>4490</th>\n",
        "      <td> hIkTb</td>\n",
        "      <td>-1</td>\n",
        "      <td>  2679881382832</td>\n",
        "      <td> 2.627423</td>\n",
        "      <td> 1</td>\n",
        "      <td> 2.772589</td>\n",
        "      <td> 3.401197</td>\n",
        "      <td> 39.000000</td>\n",
        "      <td> 0.000000</td>\n",
        "      <td> 6.054043</td>\n",
        "      <td>...</td>\n",
        "      <td>  3</td>\n",
        "      <td> 1</td>\n",
        "      <td> 0</td>\n",
        "      <td> 0</td>\n",
        "      <td> 1</td>\n",
        "      <td> 1</td>\n",
        "      <td> 0</td>\n",
        "      <td> 0</td>\n",
        "      <td>  3</td>\n",
        "      <td> 1.791759</td>\n",
        "    </tr>\n",
        "    <tr>\n",
        "      <th>4491</th>\n",
        "      <td> PNyzo</td>\n",
        "      <td>-1</td>\n",
        "      <td>   813999755428</td>\n",
        "      <td> 2.317975</td>\n",
        "      <td> 1</td>\n",
        "      <td> 5.968708</td>\n",
        "      <td> 6.313548</td>\n",
        "      <td>  0.000000</td>\n",
        "      <td> 0.000000</td>\n",
        "      <td> 0.000000</td>\n",
        "      <td>...</td>\n",
        "      <td>  1</td>\n",
        "      <td> 1</td>\n",
        "      <td> 0</td>\n",
        "      <td> 0</td>\n",
        "      <td> 1</td>\n",
        "      <td> 0</td>\n",
        "      <td> 0</td>\n",
        "      <td> 0</td>\n",
        "      <td> 17</td>\n",
        "      <td> 3.828641</td>\n",
        "    </tr>\n",
        "    <tr>\n",
        "      <th>4492</th>\n",
        "      <td> KbYLM</td>\n",
        "      <td> 1</td>\n",
        "      <td>   135828640124</td>\n",
        "      <td> 1.954288</td>\n",
        "      <td> 1</td>\n",
        "      <td> 2.079442</td>\n",
        "      <td> 1.386294</td>\n",
        "      <td>  0.000000</td>\n",
        "      <td> 0.000000</td>\n",
        "      <td> 0.000000</td>\n",
        "      <td>...</td>\n",
        "      <td>  6</td>\n",
        "      <td> 1</td>\n",
        "      <td> 0</td>\n",
        "      <td> 0</td>\n",
        "      <td> 0</td>\n",
        "      <td> 1</td>\n",
        "      <td> 1</td>\n",
        "      <td> 0</td>\n",
        "      <td>  3</td>\n",
        "      <td> 3.044522</td>\n",
        "    </tr>\n",
        "    <tr>\n",
        "      <th>4493</th>\n",
        "      <td> JMIIK</td>\n",
        "      <td>-1</td>\n",
        "      <td>    13709570116</td>\n",
        "      <td> 1.027618</td>\n",
        "      <td> 1</td>\n",
        "      <td> 3.496508</td>\n",
        "      <td> 3.258097</td>\n",
        "      <td>  0.000000</td>\n",
        "      <td> 0.000000</td>\n",
        "      <td> 0.000000</td>\n",
        "      <td>...</td>\n",
        "      <td>  0</td>\n",
        "      <td> 1</td>\n",
        "      <td> 0</td>\n",
        "      <td> 1</td>\n",
        "      <td> 1</td>\n",
        "      <td> 0</td>\n",
        "      <td> 0</td>\n",
        "      <td> 0</td>\n",
        "      <td>  6</td>\n",
        "      <td> 3.044522</td>\n",
        "    </tr>\n",
        "    <tr>\n",
        "      <th>4494</th>\n",
        "      <td> Ehbr3</td>\n",
        "      <td>-1</td>\n",
        "      <td>   158475597491</td>\n",
        "      <td> 0.000000</td>\n",
        "      <td> 1</td>\n",
        "      <td> 5.652489</td>\n",
        "      <td> 4.369448</td>\n",
        "      <td> 72.000000</td>\n",
        "      <td> 0.000000</td>\n",
        "      <td> 0.000000</td>\n",
        "      <td>...</td>\n",
        "      <td>  1</td>\n",
        "      <td> 1</td>\n",
        "      <td> 0</td>\n",
        "      <td> 0</td>\n",
        "      <td> 1</td>\n",
        "      <td> 0</td>\n",
        "      <td> 0</td>\n",
        "      <td> 0</td>\n",
        "      <td> 10</td>\n",
        "      <td> 4.499810</td>\n",
        "    </tr>\n",
        "    <tr>\n",
        "      <th>4495</th>\n",
        "      <td> ywqvs</td>\n",
        "      <td>-1</td>\n",
        "      <td>  7803682824686</td>\n",
        "      <td> 1.389855</td>\n",
        "      <td> 1</td>\n",
        "      <td> 3.258097</td>\n",
        "      <td> 3.044522</td>\n",
        "      <td> 91.666667</td>\n",
        "      <td> 0.000000</td>\n",
        "      <td> 0.000000</td>\n",
        "      <td>...</td>\n",
        "      <td>  0</td>\n",
        "      <td> 1</td>\n",
        "      <td> 0</td>\n",
        "      <td> 0</td>\n",
        "      <td> 1</td>\n",
        "      <td> 0</td>\n",
        "      <td> 0</td>\n",
        "      <td> 0</td>\n",
        "      <td>  2</td>\n",
        "      <td> 1.791759</td>\n",
        "    </tr>\n",
        "    <tr>\n",
        "      <th>4496</th>\n",
        "      <td> qse8U</td>\n",
        "      <td>-1</td>\n",
        "      <td>   781476116673</td>\n",
        "      <td> 1.828627</td>\n",
        "      <td> 1</td>\n",
        "      <td> 6.684612</td>\n",
        "      <td> 6.107023</td>\n",
        "      <td>  0.000000</td>\n",
        "      <td> 0.000000</td>\n",
        "      <td> 0.000000</td>\n",
        "      <td>...</td>\n",
        "      <td>  0</td>\n",
        "      <td> 1</td>\n",
        "      <td> 0</td>\n",
        "      <td> 0</td>\n",
        "      <td> 0</td>\n",
        "      <td> 0</td>\n",
        "      <td> 0</td>\n",
        "      <td> 0</td>\n",
        "      <td>  4</td>\n",
        "      <td> 2.197225</td>\n",
        "    </tr>\n",
        "    <tr>\n",
        "      <th>4497</th>\n",
        "      <td> xg7b3</td>\n",
        "      <td>-1</td>\n",
        "      <td>    31363070876</td>\n",
        "      <td> 0.000000</td>\n",
        "      <td> 1</td>\n",
        "      <td> 1.386294</td>\n",
        "      <td> 2.639057</td>\n",
        "      <td>  0.000000</td>\n",
        "      <td> 0.000000</td>\n",
        "      <td> 0.000000</td>\n",
        "      <td>...</td>\n",
        "      <td>  0</td>\n",
        "      <td> 0</td>\n",
        "      <td> 0</td>\n",
        "      <td> 0</td>\n",
        "      <td> 0</td>\n",
        "      <td> 0</td>\n",
        "      <td> 0</td>\n",
        "      <td> 0</td>\n",
        "      <td>  0</td>\n",
        "      <td> 1.386294</td>\n",
        "    </tr>\n",
        "    <tr>\n",
        "      <th>4498</th>\n",
        "      <td> xSiLk</td>\n",
        "      <td>-1</td>\n",
        "      <td>   244858151308</td>\n",
        "      <td> 1.333277</td>\n",
        "      <td> 1</td>\n",
        "      <td> 1.945910</td>\n",
        "      <td> 1.386294</td>\n",
        "      <td>  0.000000</td>\n",
        "      <td> 0.000000</td>\n",
        "      <td> 0.000000</td>\n",
        "      <td>...</td>\n",
        "      <td>  0</td>\n",
        "      <td> 1</td>\n",
        "      <td> 0</td>\n",
        "      <td> 0</td>\n",
        "      <td> 0</td>\n",
        "      <td> 0</td>\n",
        "      <td> 1</td>\n",
        "      <td> 0</td>\n",
        "      <td> 10</td>\n",
        "      <td> 3.178054</td>\n",
        "    </tr>\n",
        "    <tr>\n",
        "      <th>4499</th>\n",
        "      <td> urlw0</td>\n",
        "      <td> 1</td>\n",
        "      <td>   205221715542</td>\n",
        "      <td> 1.940548</td>\n",
        "      <td> 1</td>\n",
        "      <td> 3.663562</td>\n",
        "      <td> 2.639057</td>\n",
        "      <td>  0.000000</td>\n",
        "      <td> 0.000000</td>\n",
        "      <td> 0.000000</td>\n",
        "      <td>...</td>\n",
        "      <td>  6</td>\n",
        "      <td> 1</td>\n",
        "      <td> 0</td>\n",
        "      <td> 1</td>\n",
        "      <td> 0</td>\n",
        "      <td> 1</td>\n",
        "      <td> 0</td>\n",
        "      <td> 0</td>\n",
        "      <td> 25</td>\n",
        "      <td> 4.304065</td>\n",
        "    </tr>\n",
        "  </tbody>\n",
        "</table>\n",
        "<p>4500 rows \u00d7 23 columns</p>\n",
        "</div>"
       ],
       "metadata": {},
       "output_type": "pyout",
       "prompt_number": 71,
       "text": [
        "         id  score               1         2  3         4         5  \\\n",
        "0     Nt8FJ      1  12087620705283  4.797982  1  4.990433  6.492240   \n",
        "1     VCaTF      1    282114466020  3.151926  1  3.737670  3.891820   \n",
        "2     gParY      1       173284955  1.785813  1  1.791759  1.945910   \n",
        "3     DtWDw      1   4708728355523  2.394989  1  3.091042  2.890372   \n",
        "4     4hUov      1      1459162488  2.002920  1  4.836282  4.158883   \n",
        "5     4VnZH     -1       747590455  1.380899  1  3.091042  2.397895   \n",
        "6     madOS      1     42438676159  0.000000  1  4.488636  3.912023   \n",
        "7     6DvWu     -1  14994168760886  1.816477  1  0.693147  1.386294   \n",
        "8     bvQwT      1   6888628852259  3.009992  1  4.744932  6.274762   \n",
        "9     Yyon1      1   5543511301254  1.714707  1  3.135494  3.295837   \n",
        "10    67JDj      1       746701980  2.591300  1  2.772589  6.259581   \n",
        "11    AlzGR      1   6961101378430  1.821645  1  4.672829  5.669881   \n",
        "12    slQXh      1       634300857  1.798752  1  4.663439  4.934474   \n",
        "13    H8Mp6     -1      1193643930  0.000000  0  0.000000  0.000000   \n",
        "14    LVIdc     -1   1143394593947  0.000000  1  6.265301  7.186144   \n",
        "15    RiH8z      1   1165699134125  3.319049  1  4.219508  4.094345   \n",
        "16    kQOe4     -1  29846045584236  0.000000  1  4.219508  4.624973   \n",
        "17    x912c     -1   1965531399827  0.000000  1  4.189655  3.526361   \n",
        "18    tmppP     -1    794866883218  0.000000  1  3.637586  4.174387   \n",
        "19    ymv87     -1   4616624265449  4.011195  1  3.951244  4.158883   \n",
        "20    QFIPm      1   1600707566246  1.960632  1  4.304065  4.262680   \n",
        "21    aTGEA      1   1581262079607  2.702326  1  5.117994  5.068904   \n",
        "22    W94Mt     -1      8400363511  3.055082  1  4.418841  4.867534   \n",
        "23    uFu7U      1   4535849186693  0.000000  1  3.526361  3.044522   \n",
        "24    Pmn8R     -1   7711910472669  0.000000  1  3.555348  3.951244   \n",
        "25    Vanub     -1    265871608147  0.000000  1  4.852030  5.831882   \n",
        "26    ThCxD     -1   6369495493863  1.337714  1  3.135494  3.044522   \n",
        "27    ChNxD     -1      1320214998  1.117460  1  1.609438  1.098612   \n",
        "28    UiWMg     -1   1206884885857  3.085500  1  4.317488  4.025352   \n",
        "29    naiXA      1   1222073882654  1.832085  1  1.791759  2.397895   \n",
        "...     ...    ...             ...       ... ..       ...       ...   \n",
        "4470  b9nDC     -1      1641391111  1.320091  0  1.386294  1.098612   \n",
        "4471  ORZLA     -1   1665341219033  0.000000  1  3.828641  2.995732   \n",
        "4472  MafxV     -1  22043513065611  4.007287  1  3.135494  4.941642   \n",
        "4473  0Rf93      1   8300710882953  1.759738  1  4.595120  5.641907   \n",
        "4474  Ac7Lk     -1     93673761035  1.352006  1  2.890372  2.890372   \n",
        "4475  5LqX8      1   4458602958583  1.733859  1  3.828641  3.258097   \n",
        "4476  oYEWg     -1   3724855241505  0.000000  1  2.708050  1.386294   \n",
        "4477  E8OZB     -1   2760160029259  1.648062  1  3.871201  3.850148   \n",
        "4478  Uri4N      1   3624976390410  2.575441  1  4.143135  3.713572   \n",
        "4479  WR6WC      1   7210393844467  2.290162  1  4.248495  4.094345   \n",
        "4480  buGRO     -1      1520303006  0.000000  1  2.833213  3.135494   \n",
        "4481  a7mCH      1      1452002595  2.211533  1  1.098612  1.791759   \n",
        "4482  20qlt     -1   6663516327573  1.037108  1  4.043051  3.931826   \n",
        "4483  dlYgA      1      5938253819  2.114951  1  4.488636  4.753590   \n",
        "4484  MAveZ      1   6553140750744  0.000000  1  4.584967  5.214936   \n",
        "4485  Q99xZ     -1    606626979627  0.000000  1  3.828641  3.555348   \n",
        "4486  QtsWd      1      2469740146  1.425702  1  1.609438  1.609438   \n",
        "4487  oR8YR      1       130111071  0.000000  1  1.386294  3.912023   \n",
        "4488  pCOZa      1   9009634827881  1.731858  1  4.025352  4.465908   \n",
        "4489  bYTgu     -1   1795756880404  1.699319  1  4.820282  9.043341   \n",
        "4490  hIkTb     -1   2679881382832  2.627423  1  2.772589  3.401197   \n",
        "4491  PNyzo     -1    813999755428  2.317975  1  5.968708  6.313548   \n",
        "4492  KbYLM      1    135828640124  1.954288  1  2.079442  1.386294   \n",
        "4493  JMIIK     -1     13709570116  1.027618  1  3.496508  3.258097   \n",
        "4494  Ehbr3     -1    158475597491  0.000000  1  5.652489  4.369448   \n",
        "4495  ywqvs     -1   7803682824686  1.389855  1  3.258097  3.044522   \n",
        "4496  qse8U     -1    781476116673  1.828627  1  6.684612  6.107023   \n",
        "4497  xg7b3     -1     31363070876  0.000000  1  1.386294  2.639057   \n",
        "4498  xSiLk     -1    244858151308  1.333277  1  1.945910  1.386294   \n",
        "4499  urlw0      1    205221715542  1.940548  1  3.663562  2.639057   \n",
        "\n",
        "              6         7         8    ...     12  13  14  15  16  17  18  19  \\\n",
        "0     80.000000  0.000000  0.000000    ...      0   1   0   0   1   1   0   0   \n",
        "1     83.000000  0.000000  0.000000    ...      0   1   0   0   1   0   0   0   \n",
        "2      0.000000  0.000000  0.000000    ...      2   1   0   0   1   0   0   0   \n",
        "3      0.000000  0.000000  0.000000    ...      8   1   0   0   1   1   0   0   \n",
        "4      0.000000  0.000000  0.000000    ...     10   1   0   0   1   0   0   0   \n",
        "5      0.000000  0.000000  0.000000    ...      0   0   0   0   0   0   0   0   \n",
        "6     65.000000  0.000000  0.000000    ...      4   1   0   0   0   1   0   0   \n",
        "7      0.000000  0.000000  0.000000    ...      1   1   0   0   0   0   1   0   \n",
        "8      0.000000  0.000000  0.000000    ...     12   1   0   0   0   1   1   0   \n",
        "9      0.000000  0.000000  0.000000    ...      1   1   0   0   1   0   0   0   \n",
        "10     0.000000  0.000000  0.000000    ...     12   0   0   0   1   1   0   0   \n",
        "11     0.000000  0.000000  0.000000    ...      3   1   0   0   0   0   1   0   \n",
        "12    81.428571  0.000000  0.000000    ...      0   1   0   0   1   0   1   0   \n",
        "13     0.000000  0.000000  0.000000    ...      0   1   0   1   0   0   1   0   \n",
        "14    70.000000  0.000000  1.711339    ...      0   0   0   0   1   0   0   0   \n",
        "15    92.857143  0.000000  0.000000    ...      0   1   0   0   0   0   0   0   \n",
        "16    66.000000  0.000000  1.190382    ...      0   1   0   1   0   0   1   0   \n",
        "17     0.000000  0.000000  0.000000    ...      6   1   0   0   1   0   1   0   \n",
        "18    75.000000  0.000000  0.000000    ...      0   1   0   0   1   1   0   0   \n",
        "19     0.000000  0.000000  0.000000    ...      0   1   0   0   1   1   0   0   \n",
        "20     0.000000  0.000000  0.000000    ...      0   1   0   1   0   1   3   0   \n",
        "21    73.000000  0.000000  0.000000    ...      5   1   0   0   1   1   0   0   \n",
        "22     0.000000  0.000000  0.000000    ...      1   1   0   1   0   0   0   0   \n",
        "23     0.000000  0.000000  0.000000    ...      2   1   0   0   1   0   0   0   \n",
        "24    62.857143  0.000000  0.000000    ...     55   1   0   0   1   1   0   0   \n",
        "25     0.000000  0.000000  0.000000    ...      3   0   0   0   0   1   0   0   \n",
        "26     0.000000  0.000000  0.000000    ...      2   1   0   0   1   0   0   0   \n",
        "27     0.000000  3.005259  5.050507    ...      2   1   0   0   0   1   1   0   \n",
        "28     0.000000  0.000000  0.000000    ...      3   1   0   0   1   0   0   0   \n",
        "29     0.000000  0.000000  0.000000    ...      5   1   0   0   1   0   0   0   \n",
        "...         ...       ...       ...    ...     ..  ..  ..  ..  ..  ..  ..  ..   \n",
        "4470   0.000000  0.000000  0.000000    ...      0   1   0   0   0   0   1   0   \n",
        "4471  14.000000  0.000000  0.000000    ...      1   0   0   1   0   0   0   0   \n",
        "4472  75.000000  0.000000  0.000000    ...      4   1   0   0   1   1   0   0   \n",
        "4473   0.000000  0.000000  0.000000    ...      6   1   0   0   0   0   0   0   \n",
        "4474   0.000000  3.086259  0.000000    ...      0   1   0   0   0   0   0   0   \n",
        "4475   0.000000  0.000000  0.000000    ...      2   1   0   0   1   0   0   0   \n",
        "4476   0.000000  0.000000  0.000000    ...      2   0   0   1   1   0   0   0   \n",
        "4477  71.666667  0.000000  0.000000    ...      0   1   0   0   1   0   0   0   \n",
        "4478   0.000000  0.000000  0.000000    ...      3   1   0   0   0   1   1   0   \n",
        "4479   0.000000  0.000000  0.000000    ...      2   1   0   0   0   0   0   0   \n",
        "4480   0.000000  0.000000  0.000000    ...      0   0   0   0   0   1   0   0   \n",
        "4481   0.000000  0.000000  0.000000    ...      2   1   0   0   1   0   0   0   \n",
        "4482   0.000000  0.000000  0.000000    ...      0   1   0   0   0   0   0   0   \n",
        "4483   0.000000  0.000000  0.000000    ...      4   1   0   0   1   0   0   0   \n",
        "4484  28.000000  0.000000  0.000000    ...      6   0   0   0   0   1   1   0   \n",
        "4485   0.000000  0.000000  0.000000    ...      0   0   0   1   0   0   0   0   \n",
        "4486   0.000000  0.000000  0.000000    ...      3   1   0   0   1   0   0   0   \n",
        "4487  97.000000  0.000000  0.000000    ...      0   1   0   0   1   0   0   0   \n",
        "4488  65.714286  0.000000  0.000000    ...      1   1   0   0   0   0   1   0   \n",
        "4489   0.000000  0.000000  0.000000    ...      1   1   1   0   0   0   0   0   \n",
        "4490  39.000000  0.000000  6.054043    ...      3   1   0   0   1   1   0   0   \n",
        "4491   0.000000  0.000000  0.000000    ...      1   1   0   0   1   0   0   0   \n",
        "4492   0.000000  0.000000  0.000000    ...      6   1   0   0   0   1   1   0   \n",
        "4493   0.000000  0.000000  0.000000    ...      0   1   0   1   1   0   0   0   \n",
        "4494  72.000000  0.000000  0.000000    ...      1   1   0   0   1   0   0   0   \n",
        "4495  91.666667  0.000000  0.000000    ...      0   1   0   0   1   0   0   0   \n",
        "4496   0.000000  0.000000  0.000000    ...      0   1   0   0   0   0   0   0   \n",
        "4497   0.000000  0.000000  0.000000    ...      0   0   0   0   0   0   0   0   \n",
        "4498   0.000000  0.000000  0.000000    ...      0   1   0   0   0   0   1   0   \n",
        "4499   0.000000  0.000000  0.000000    ...      6   1   0   1   0   1   0   0   \n",
        "\n",
        "      20        21  \n",
        "0     14  4.653960  \n",
        "1      2  2.890372  \n",
        "2      6  3.637586  \n",
        "3      5  2.772589  \n",
        "4      7  2.397895  \n",
        "5      2  1.791759  \n",
        "6      0  1.945910  \n",
        "7      3  2.484907  \n",
        "8      1  2.079442  \n",
        "9      3  2.772589  \n",
        "10     5  3.988984  \n",
        "11     2  1.609438  \n",
        "12     2  1.791759  \n",
        "13     1  1.386294  \n",
        "14     8  3.465736  \n",
        "15    15  5.062595  \n",
        "16     1  2.079442  \n",
        "17     4  3.044522  \n",
        "18    47  5.874931  \n",
        "19     2  2.079442  \n",
        "20    27  3.713572  \n",
        "21     3  2.772589  \n",
        "22     1  2.197225  \n",
        "23     3  1.945910  \n",
        "24     5  2.890372  \n",
        "25     7  2.302585  \n",
        "26     8  2.772589  \n",
        "27     1  2.995732  \n",
        "28     4  2.484907  \n",
        "29     3  2.484907  \n",
        "...   ..       ...  \n",
        "4470   1  2.079442  \n",
        "4471  13  4.663439  \n",
        "4472   5  3.218876  \n",
        "4473  10  3.295837  \n",
        "4474  17  3.258097  \n",
        "4475   3  2.079442  \n",
        "4476   0  1.386294  \n",
        "4477   2  1.609438  \n",
        "4478   2  1.386294  \n",
        "4479   1  1.386294  \n",
        "4480   1  1.609438  \n",
        "4481   3  2.197225  \n",
        "4482  18  5.192957  \n",
        "4483   3  1.791759  \n",
        "4484  96  6.345636  \n",
        "4485   3  2.833213  \n",
        "4486   6  3.258097  \n",
        "4487   1  2.079442  \n",
        "4488   8  2.772589  \n",
        "4489   3  1.609438  \n",
        "4490   3  1.791759  \n",
        "4491  17  3.828641  \n",
        "4492   3  3.044522  \n",
        "4493   6  3.044522  \n",
        "4494  10  4.499810  \n",
        "4495   2  1.791759  \n",
        "4496   4  2.197225  \n",
        "4497   0  1.386294  \n",
        "4498  10  3.178054  \n",
        "4499  25  4.304065  \n",
        "\n",
        "[4500 rows x 23 columns]"
       ]
      }
     ],
     "prompt_number": 71
    },
    {
     "cell_type": "code",
     "collapsed": false,
     "input": [
      "g = features.columns.to_series().groupby(features.dtypes).groups\n",
      "td = {k.name: v for k, v in g.items()}"
     ],
     "language": "python",
     "metadata": {},
     "outputs": [],
     "prompt_number": 72
    },
    {
     "cell_type": "code",
     "collapsed": false,
     "input": [
      "td"
     ],
     "language": "python",
     "metadata": {},
     "outputs": [
      {
       "metadata": {},
       "output_type": "pyout",
       "prompt_number": 73,
       "text": [
        "{'float64': ['2', '4', '5', '6', '7', '8', '11', '21'],\n",
        " 'int64': ['1',\n",
        "  '3',\n",
        "  '9',\n",
        "  '10',\n",
        "  '12',\n",
        "  '13',\n",
        "  '14',\n",
        "  '15',\n",
        "  '16',\n",
        "  '17',\n",
        "  '18',\n",
        "  '19',\n",
        "  '20']}"
       ]
      }
     ],
     "prompt_number": 73
    },
    {
     "cell_type": "code",
     "collapsed": false,
     "input": [
      "# uniformly divide positive and negative resposonses into training and test data using 80/20 cross validation rule\n",
      "posdf = df[df['score'] == 1]\n",
      "posdf['is_train'] = np.random.uniform(0, 1, len(posdf)) <= .8\n",
      "negdf = df[df['score'] == -1]\n",
      "negdf['is_train'] = np.random.uniform(0, 1, len(negdf)) <= .8\n",
      "train = pd.concat([posdf[posdf['is_train'] == True],negdf[negdf['is_train'] == True]])\n",
      "test = pd.concat([posdf[posdf['is_train'] == False],negdf[negdf['is_train'] == False]])\n"
     ],
     "language": "python",
     "metadata": {},
     "outputs": [],
     "prompt_number": 74
    },
    {
     "cell_type": "code",
     "collapsed": false,
     "input": [
      "# mixed feature selection algorithm since we are clearly dealing with both continuous and categorical variables\n",
      "# feature ranking algorithm implemented from http://perso.uclouvain.be/michel.verleysen/papers/kdir11gd.pdf\n",
      "# elimination of features due to mixed categorical and continuous information using generic dimensionality reduction could result in severe loss of information so we will try a different approach\n",
      "# we should definitely test out different types of classifiers to see which one actually performs the best\n",
      "potential_classifiers = [ LogisticRegression(C=1.0, class_weight=None, dual=False, fit_intercept=True, intercept_scaling=1, penalty='l2', random_state=None, tol=0.0001),DecisionTreeClassifier(max_depth=None, min_samples_split=1, random_state=0),RandomForestClassifier(n_jobs=-1,n_estimators=1000, max_depth=None, min_samples_split=1, random_state=0),ExtraTreesClassifier(n_estimators=10, max_depth=None, min_samples_split=1, random_state=0),GaussianNB(),BernoulliNB(alpha=1.0) ]\n",
      "def filter_wrapper_featureselection(in_cat,in_cont,classifier):\n",
      "    #final features list\n",
      "    L = []\n",
      "    for feat_num in range(len(in_cat+in_cont)):\n",
      "        if len(in_cat) != 0 and len(in_cont) != 0:\n",
      "            # create a bunch of potential classifiers and establish a baseline performance for each\n",
      "            clf_cat = classifier\n",
      "            clf_cat.fit([[num] for num in train[in_cat[0]]], train['score'])\n",
      "            clf_cont = classifier\n",
      "            clf_cont.fit([[num] for num in train[in_cont[0]]], train['score'])\n",
      "            acc_cat = clf_cat.score([[num] for num in test[in_cat[0]]],test['score'])\n",
      "            acc_cont = clf_cont.score([[num] for num in test[in_cont[0]]],test['score'])\n",
      "            if acc_cat < acc_cont:\n",
      "                yield in_cont[0]\n",
      "                in_cont = in_cont[1:]\n",
      "            else:\n",
      "                yield (in_cat[0])\n",
      "                in_cat = in_cat[1:]\n",
      "        else:\n",
      "            if len(in_cat) == 0:\n",
      "                yield (in_cont[0])\n",
      "                in_cont = in_cont[1:]\n",
      "            else:\n",
      "                yield (in_cat[0])\n",
      "                in_cat = in_cat[1:]\n",
      "                \n",
      "# final output of ranked features                \n",
      "# list(filter_wrapper_featureselection(td['int64'],td['float64']))\n"
     ],
     "language": "python",
     "metadata": {},
     "outputs": [],
     "prompt_number": 75
    },
    {
     "cell_type": "code",
     "collapsed": false,
     "input": [
      "# plot error rate versus number of features to determine, which is in this case exactly the number of wrong classifications, so we will just plot accuracy\n",
      "import matplotlib.pyplot as plt\n",
      "ranked_features_list =[ list(filter_wrapper_featureselection(td['int64'],td['float64'],cl)) for cl in potential_classifiers ]\n",
      "acclst = []\n",
      "optimum = []\n",
      "for cl in potential_classifiers:\n",
      "    best_model = cl\n",
      "    classifier_acc = []\n",
      "    rank = list(filter_wrapper_featureselection(td['int64'],td['float64'],cl))\n",
      "    for ind,features in enumerate(rank):\n",
      "        cl.fit(train[rank[:ind+1]], train['score'])\n",
      "        acc = cl.score(test[rank[:ind+1]],test['score'])\n",
      "        classifier_acc.append((ind+1,acc,cl,rank))\n",
      "        plt.figure()\n",
      "    print cl\n",
      "    plt.xlabel(\"Number of features selected\")\n",
      "    plt.ylabel(\"accuracy\")\n",
      "    plt.plot(range(1, len(rank) + 1), [accur[1] for accur in classifier_acc])\n",
      "    plt.show()\n",
      "    model_optimal_condition = max(classifier_acc, key=lambda accur: accur[1])\n",
      "    optimum.append(model_optimal_condition)\n",
      "\n",
      "final_model = max(optimum, key=lambda maxacc: maxacc[1])\n"
     ],
     "language": "python",
     "metadata": {},
     "outputs": [
      {
       "output_type": "stream",
       "stream": "stdout",
       "text": [
        "LogisticRegression(C=1.0, class_weight=None, dual=False, fit_intercept=True,\n",
        "          intercept_scaling=1, penalty='l2', random_state=None, tol=0.0001)\n"
       ]
      },
      {
       "metadata": {},
       "output_type": "display_data",
       "text": [
        "<matplotlib.figure.Figure at 0x7ff837d26e50>"
       ]
      },
      {
       "metadata": {},
       "output_type": "display_data",
       "text": [
        "<matplotlib.figure.Figure at 0x7ff837d26110>"
       ]
      },
      {
       "metadata": {},
       "output_type": "display_data",
       "text": [
        "<matplotlib.figure.Figure at 0x7ff837c29350>"
       ]
      },
      {
       "metadata": {},
       "output_type": "display_data",
       "text": [
        "<matplotlib.figure.Figure at 0x7ff837c29310>"
       ]
      },
      {
       "metadata": {},
       "output_type": "display_data",
       "text": [
        "<matplotlib.figure.Figure at 0x7ff838028cd0>"
       ]
      },
      {
       "metadata": {},
       "output_type": "display_data",
       "text": [
        "<matplotlib.figure.Figure at 0x7ff838028810>"
       ]
      },
      {
       "metadata": {},
       "output_type": "display_data",
       "text": [
        "<matplotlib.figure.Figure at 0x7ff838028290>"
       ]
      },
      {
       "metadata": {},
       "output_type": "display_data",
       "text": [
        "<matplotlib.figure.Figure at 0x7ff837d36c90>"
       ]
      },
      {
       "metadata": {},
       "output_type": "display_data",
       "text": [
        "<matplotlib.figure.Figure at 0x7ff837d36b50>"
       ]
      },
      {
       "metadata": {},
       "output_type": "display_data",
       "text": [
        "<matplotlib.figure.Figure at 0x7ff837ceffd0>"
       ]
      },
      {
       "metadata": {},
       "output_type": "display_data",
       "text": [
        "<matplotlib.figure.Figure at 0x7ff837c43210>"
       ]
      },
      {
       "metadata": {},
       "output_type": "display_data",
       "text": [
        "<matplotlib.figure.Figure at 0x7ff838029990>"
       ]
      },
      {
       "metadata": {},
       "output_type": "display_data",
       "text": [
        "<matplotlib.figure.Figure at 0x7ff837c42d50>"
       ]
      },
      {
       "metadata": {},
       "output_type": "display_data",
       "text": [
        "<matplotlib.figure.Figure at 0x7ff837c42c50>"
       ]
      },
      {
       "metadata": {},
       "output_type": "display_data",
       "text": [
        "<matplotlib.figure.Figure at 0x7ff837c422d0>"
       ]
      },
      {
       "metadata": {},
       "output_type": "display_data",
       "text": [
        "<matplotlib.figure.Figure at 0x7ff837b65590>"
       ]
      },
      {
       "metadata": {},
       "output_type": "display_data",
       "text": [
        "<matplotlib.figure.Figure at 0x7ff837b65410>"
       ]
      },
      {
       "metadata": {},
       "output_type": "display_data",
       "text": [
        "<matplotlib.figure.Figure at 0x7ff83809b390>"
       ]
      },
      {
       "metadata": {},
       "output_type": "display_data",
       "text": [
        "<matplotlib.figure.Figure at 0x7ff83809bf10>"
       ]
      },
      {
       "metadata": {},
       "output_type": "display_data",
       "text": [
        "<matplotlib.figure.Figure at 0x7ff83809be50>"
       ]
      },
      {
       "metadata": {},
       "output_type": "display_data",
       "png": "[encoded data removed]",
       "text": [
        "<matplotlib.figure.Figure at 0x7ff837bf5cd0>"
       ]
      },
      {
       "output_type": "stream",
       "stream": "stdout",
       "text": [
        "DecisionTreeClassifier(compute_importances=None, criterion='gini',\n",
        "            max_depth=None, max_features=None, max_leaf_nodes=None,\n",
        "            min_density=None, min_samples_leaf=1, min_samples_split=1,\n",
        "            random_state=0, splitter='best')\n"
       ]
      },
      {
       "metadata": {},
       "output_type": "display_data",
       "text": [
        "<matplotlib.figure.Figure at 0x7ff837d39d90>"
       ]
      },
      {
       "metadata": {},
       "output_type": "display_data",
       "text": [
        "<matplotlib.figure.Figure at 0x7ff837c64b90>"
       ]
      },
      {
       "metadata": {},
       "output_type": "display_data",
       "text": [
        "<matplotlib.figure.Figure at 0x7ff837e51d90>"
       ]
      },
      {
       "metadata": {},
       "output_type": "display_data",
       "text": [
        "<matplotlib.figure.Figure at 0x7ff837f04150>"
       ]
      },
      {
       "metadata": {},
       "output_type": "display_data",
       "text": [
        "<matplotlib.figure.Figure at 0x7ff837f04350>"
       ]
      },
      {
       "metadata": {},
       "output_type": "display_data",
       "text": [
        "<matplotlib.figure.Figure at 0x7ff837c55090>"
       ]
      },
      {
       "metadata": {},
       "output_type": "display_data",
       "text": [
        "<matplotlib.figure.Figure at 0x7ff837c55690>"
       ]
      },
      {
       "metadata": {},
       "output_type": "display_data",
       "text": [
        "<matplotlib.figure.Figure at 0x7ff837c55990>"
       ]
      },
      {
       "metadata": {},
       "output_type": "display_data",
       "text": [
        "<matplotlib.figure.Figure at 0x7ff837c6e690>"
       ]
      },
      {
       "metadata": {},
       "output_type": "display_data",
       "text": [
        "<matplotlib.figure.Figure at 0x7ff837c6ec90>"
       ]
      },
      {
       "metadata": {},
       "output_type": "display_data",
       "text": [
        "<matplotlib.figure.Figure at 0x7ff837b8ef10>"
       ]
      },
      {
       "metadata": {},
       "output_type": "display_data",
       "text": [
        "<matplotlib.figure.Figure at 0x7ff837b8ee50>"
       ]
      },
      {
       "metadata": {},
       "output_type": "display_data",
       "text": [
        "<matplotlib.figure.Figure at 0x7ff837b8efd0>"
       ]
      },
      {
       "metadata": {},
       "output_type": "display_data",
       "text": [
        "<matplotlib.figure.Figure at 0x7ff837b544d0>"
       ]
      },
      {
       "metadata": {},
       "output_type": "display_data",
       "text": [
        "<matplotlib.figure.Figure at 0x7ff837b54650>"
       ]
      },
      {
       "metadata": {},
       "output_type": "display_data",
       "text": [
        "<matplotlib.figure.Figure at 0x7ff837b54490>"
       ]
      },
      {
       "metadata": {},
       "output_type": "display_data",
       "text": [
        "<matplotlib.figure.Figure at 0x7ff837d5ae50>"
       ]
      },
      {
       "metadata": {},
       "output_type": "display_data",
       "text": [
        "<matplotlib.figure.Figure at 0x7ff837d5a510>"
       ]
      },
      {
       "metadata": {},
       "output_type": "display_data",
       "text": [
        "<matplotlib.figure.Figure at 0x7ff837d5a410>"
       ]
      },
      {
       "metadata": {},
       "output_type": "display_data",
       "text": [
        "<matplotlib.figure.Figure at 0x7ff837c4bd10>"
       ]
      },
      {
       "metadata": {},
       "output_type": "display_data",
       "png": "[encoded data removed]",
       "text": [
        "<matplotlib.figure.Figure at 0x7ff837c4b6d0>"
       ]
      },
      {
       "output_type": "stream",
       "stream": "stdout",
       "text": [
        "RandomForestClassifier(bootstrap=True, compute_importances=None,\n",
        "            criterion='gini', max_depth=None, max_features='auto',\n",
        "            max_leaf_nodes=None, min_density=None, min_samples_leaf=1,\n",
        "            min_samples_split=1, n_estimators=1000, n_jobs=-1,\n",
        "            oob_score=False, random_state=0, verbose=0)\n"
       ]
      },
      {
       "metadata": {},
       "output_type": "display_data",
       "text": [
        "<matplotlib.figure.Figure at 0x7ff837b86250>"
       ]
      },
      {
       "metadata": {},
       "output_type": "display_data",
       "text": [
        "<matplotlib.figure.Figure at 0x7ff838099110>"
       ]
      },
      {
       "metadata": {},
       "output_type": "display_data",
       "text": [
        "<matplotlib.figure.Figure at 0x7ff837b75350>"
       ]
      },
      {
       "metadata": {},
       "output_type": "display_data",
       "text": [
        "<matplotlib.figure.Figure at 0x7ff837edaf50>"
       ]
      },
      {
       "metadata": {},
       "output_type": "display_data",
       "text": [
        "<matplotlib.figure.Figure at 0x7ff837b75810>"
       ]
      },
      {
       "metadata": {},
       "output_type": "display_data",
       "text": [
        "<matplotlib.figure.Figure at 0x7ff837b6ab50>"
       ]
      },
      {
       "metadata": {},
       "output_type": "display_data",
       "text": [
        "<matplotlib.figure.Figure at 0x7ff837b75250>"
       ]
      },
      {
       "metadata": {},
       "output_type": "display_data",
       "text": [
        "<matplotlib.figure.Figure at 0x7ff837b8e3d0>"
       ]
      },
      {
       "metadata": {},
       "output_type": "display_data",
       "text": [
        "<matplotlib.figure.Figure at 0x7ff837c43b10>"
       ]
      },
      {
       "metadata": {},
       "output_type": "display_data",
       "text": [
        "<matplotlib.figure.Figure at 0x7ff837b8ead0>"
       ]
      },
      {
       "metadata": {},
       "output_type": "display_data",
       "text": [
        "<matplotlib.figure.Figure at 0x7ff837d48110>"
       ]
      },
      {
       "metadata": {},
       "output_type": "display_data",
       "text": [
        "<matplotlib.figure.Figure at 0x7ff837b8e150>"
       ]
      },
      {
       "metadata": {},
       "output_type": "display_data",
       "text": [
        "<matplotlib.figure.Figure at 0x7ff837c29a50>"
       ]
      },
      {
       "metadata": {},
       "output_type": "display_data",
       "text": [
        "<matplotlib.figure.Figure at 0x7ff837c6ef90>"
       ]
      },
      {
       "metadata": {},
       "output_type": "display_data",
       "text": [
        "<matplotlib.figure.Figure at 0x7ff837d26310>"
       ]
      },
      {
       "metadata": {},
       "output_type": "display_data",
       "text": [
        "<matplotlib.figure.Figure at 0x7ff837b6ae90>"
       ]
      },
      {
       "metadata": {},
       "output_type": "display_data",
       "text": [
        "<matplotlib.figure.Figure at 0x7ff837d26550>"
       ]
      },
      {
       "metadata": {},
       "output_type": "display_data",
       "text": [
        "<matplotlib.figure.Figure at 0x7ff837c6e510>"
       ]
      },
      {
       "metadata": {},
       "output_type": "display_data",
       "text": [
        "<matplotlib.figure.Figure at 0x7ff837c29850>"
       ]
      },
      {
       "metadata": {},
       "output_type": "display_data",
       "text": [
        "<matplotlib.figure.Figure at 0x7ff837c559d0>"
       ]
      },
      {
       "metadata": {},
       "output_type": "display_data",
       "png": "[encoded data removed]",
       "text": [
        "<matplotlib.figure.Figure at 0x7ff837c29090>"
       ]
      },
      {
       "output_type": "stream",
       "stream": "stdout",
       "text": [
        "ExtraTreesClassifier(bootstrap=False, compute_importances=None,\n",
        "           criterion='gini', max_depth=None, max_features='auto',\n",
        "           max_leaf_nodes=None, min_density=None, min_samples_leaf=1,\n",
        "           min_samples_split=1, n_estimators=10, n_jobs=1, oob_score=False,\n",
        "           random_state=0, verbose=0)\n"
       ]
      },
      {
       "metadata": {},
       "output_type": "display_data",
       "text": [
        "<matplotlib.figure.Figure at 0x7ff837d39550>"
       ]
      },
      {
       "metadata": {},
       "output_type": "display_data",
       "text": [
        "<matplotlib.figure.Figure at 0x7ff837b54e50>"
       ]
      },
      {
       "metadata": {},
       "output_type": "display_data",
       "text": [
        "<matplotlib.figure.Figure at 0x7ff837edaa90>"
       ]
      },
      {
       "metadata": {},
       "output_type": "display_data",
       "text": [
        "<matplotlib.figure.Figure at 0x7ff837c45550>"
       ]
      },
      {
       "metadata": {},
       "output_type": "display_data",
       "text": [
        "<matplotlib.figure.Figure at 0x7ff837b659d0>"
       ]
      },
      {
       "metadata": {},
       "output_type": "display_data",
       "text": [
        "<matplotlib.figure.Figure at 0x7ff837bad6d0>"
       ]
      },
      {
       "metadata": {},
       "output_type": "display_data",
       "text": [
        "<matplotlib.figure.Figure at 0x7ff837badbd0>"
       ]
      },
      {
       "metadata": {},
       "output_type": "display_data",
       "text": [
        "<matplotlib.figure.Figure at 0x7ff837badc90>"
       ]
      },
      {
       "metadata": {},
       "output_type": "display_data",
       "text": [
        "<matplotlib.figure.Figure at 0x7ff837b9a610>"
       ]
      },
      {
       "metadata": {},
       "output_type": "display_data",
       "text": [
        "<matplotlib.figure.Figure at 0x7ff837b9ab10>"
       ]
      },
      {
       "metadata": {},
       "output_type": "display_data",
       "text": [
        "<matplotlib.figure.Figure at 0x7ff837b9abd0>"
       ]
      },
      {
       "metadata": {},
       "output_type": "display_data",
       "text": [
        "<matplotlib.figure.Figure at 0x7ff837d16550>"
       ]
      },
      {
       "metadata": {},
       "output_type": "display_data",
       "text": [
        "<matplotlib.figure.Figure at 0x7ff837d16a50>"
       ]
      },
      {
       "metadata": {},
       "output_type": "display_data",
       "text": [
        "<matplotlib.figure.Figure at 0x7ff837d16f50>"
       ]
      },
      {
       "metadata": {},
       "output_type": "display_data",
       "text": [
        "<matplotlib.figure.Figure at 0x7ff837d04490>"
       ]
      },
      {
       "metadata": {},
       "output_type": "display_data",
       "text": [
        "<matplotlib.figure.Figure at 0x7ff837d04990>"
       ]
      },
      {
       "metadata": {},
       "output_type": "display_data",
       "text": [
        "<matplotlib.figure.Figure at 0x7ff837d04e90>"
       ]
      },
      {
       "metadata": {},
       "output_type": "display_data",
       "text": [
        "<matplotlib.figure.Figure at 0x7ff837d04f50>"
       ]
      },
      {
       "metadata": {},
       "output_type": "display_data",
       "text": [
        "<matplotlib.figure.Figure at 0x7ff837d358d0>"
       ]
      },
      {
       "metadata": {},
       "output_type": "display_data",
       "text": [
        "<matplotlib.figure.Figure at 0x7ff837d35dd0>"
       ]
      },
      {
       "metadata": {},
       "output_type": "display_data",
       "png": "[encoded data removed]",
       "text": [
        "<matplotlib.figure.Figure at 0x7ff837d35e90>"
       ]
      },
      {
       "output_type": "stream",
       "stream": "stdout",
       "text": [
        "GaussianNB()\n"
       ]
      },
      {
       "metadata": {},
       "output_type": "display_data",
       "text": [
        "<matplotlib.figure.Figure at 0x7ff837b3b890>"
       ]
      },
      {
       "metadata": {},
       "output_type": "display_data",
       "text": [
        "<matplotlib.figure.Figure at 0x7ff837b3bf10>"
       ]
      },
      {
       "metadata": {},
       "output_type": "display_data",
       "text": [
        "<matplotlib.figure.Figure at 0x7ff837b0c5d0>"
       ]
      },
      {
       "metadata": {},
       "output_type": "display_data",
       "text": [
        "<matplotlib.figure.Figure at 0x7ff837b0c8d0>"
       ]
      },
      {
       "metadata": {},
       "output_type": "display_data",
       "text": [
        "<matplotlib.figure.Figure at 0x7ff837b0c110>"
       ]
      },
      {
       "metadata": {},
       "output_type": "display_data",
       "text": [
        "<matplotlib.figure.Figure at 0x7ff837b40050>"
       ]
      },
      {
       "metadata": {},
       "output_type": "display_data",
       "text": [
        "<matplotlib.figure.Figure at 0x7ff837b40650>"
       ]
      },
      {
       "metadata": {},
       "output_type": "display_data",
       "text": [
        "<matplotlib.figure.Figure at 0x7ff837ac9a10>"
       ]
      },
      {
       "metadata": {},
       "output_type": "display_data",
       "text": [
        "<matplotlib.figure.Figure at 0x7ff837ac9f90>"
       ]
      },
      {
       "metadata": {},
       "output_type": "display_data",
       "text": [
        "<matplotlib.figure.Figure at 0x7ff837ac9590>"
       ]
      },
      {
       "metadata": {},
       "output_type": "display_data",
       "text": [
        "<matplotlib.figure.Figure at 0x7ff837bf40d0>"
       ]
      },
      {
       "metadata": {},
       "output_type": "display_data",
       "text": [
        "<matplotlib.figure.Figure at 0x7ff837bf4690>"
       ]
      },
      {
       "metadata": {},
       "output_type": "display_data",
       "text": [
        "<matplotlib.figure.Figure at 0x7ff837bf4310>"
       ]
      },
      {
       "metadata": {},
       "output_type": "display_data",
       "text": [
        "<matplotlib.figure.Figure at 0x7ff837bd6490>"
       ]
      },
      {
       "metadata": {},
       "output_type": "display_data",
       "text": [
        "<matplotlib.figure.Figure at 0x7ff837bd61d0>"
       ]
      },
      {
       "metadata": {},
       "output_type": "display_data",
       "text": [
        "<matplotlib.figure.Figure at 0x7ff837f042d0>"
       ]
      },
      {
       "metadata": {},
       "output_type": "display_data",
       "text": [
        "<matplotlib.figure.Figure at 0x7ff837c4a5d0>"
       ]
      },
      {
       "metadata": {},
       "output_type": "display_data",
       "text": [
        "<matplotlib.figure.Figure at 0x7ff837c42950>"
       ]
      },
      {
       "metadata": {},
       "output_type": "display_data",
       "text": [
        "<matplotlib.figure.Figure at 0x7ff837db8610>"
       ]
      },
      {
       "metadata": {},
       "output_type": "display_data",
       "text": [
        "<matplotlib.figure.Figure at 0x7ff837b433d0>"
       ]
      },
      {
       "metadata": {},
       "output_type": "display_data",
       "png": "[encoded data removed]",
       "text": [
        "<matplotlib.figure.Figure at 0x7ff837b43110>"
       ]
      },
      {
       "output_type": "stream",
       "stream": "stdout",
       "text": [
        "BernoulliNB(alpha=1.0, binarize=0.0, class_prior=None, fit_prior=True)\n"
       ]
      },
      {
       "metadata": {},
       "output_type": "display_data",
       "text": [
        "<matplotlib.figure.Figure at 0x7ff837c37c10>"
       ]
      },
      {
       "metadata": {},
       "output_type": "display_data",
       "text": [
        "<matplotlib.figure.Figure at 0x7ff837c37650>"
       ]
      },
      {
       "metadata": {},
       "output_type": "display_data",
       "text": [
        "<matplotlib.figure.Figure at 0x7ff837da61d0>"
       ]
      },
      {
       "metadata": {},
       "output_type": "display_data",
       "text": [
        "<matplotlib.figure.Figure at 0x7ff837c292d0>"
       ]
      },
      {
       "metadata": {},
       "output_type": "display_data",
       "text": [
        "<matplotlib.figure.Figure at 0x7ff837c29ed0>"
       ]
      },
      {
       "metadata": {},
       "output_type": "display_data",
       "text": [
        "<matplotlib.figure.Figure at 0x7ff837d84350>"
       ]
      },
      {
       "metadata": {},
       "output_type": "display_data",
       "text": [
        "<matplotlib.figure.Figure at 0x7ff8380eb190>"
       ]
      },
      {
       "metadata": {},
       "output_type": "display_data",
       "text": [
        "<matplotlib.figure.Figure at 0x7ff837d26610>"
       ]
      },
      {
       "metadata": {},
       "output_type": "display_data",
       "text": [
        "<matplotlib.figure.Figure at 0x7ff837d26f10>"
       ]
      },
      {
       "metadata": {},
       "output_type": "display_data",
       "text": [
        "<matplotlib.figure.Figure at 0x7ff837c55650>"
       ]
      },
      {
       "metadata": {},
       "output_type": "display_data",
       "text": [
        "<matplotlib.figure.Figure at 0x7ff837c55cd0>"
       ]
      },
      {
       "metadata": {},
       "output_type": "display_data",
       "text": [
        "<matplotlib.figure.Figure at 0x7ff837c55210>"
       ]
      },
      {
       "metadata": {},
       "output_type": "display_data",
       "text": [
        "<matplotlib.figure.Figure at 0x7ff837b9b0d0>"
       ]
      },
      {
       "metadata": {},
       "output_type": "display_data",
       "text": [
        "<matplotlib.figure.Figure at 0x7ff837b9ba90>"
       ]
      },
      {
       "metadata": {},
       "output_type": "display_data",
       "text": [
        "<matplotlib.figure.Figure at 0x7ff837b54a90>"
       ]
      },
      {
       "metadata": {},
       "output_type": "display_data",
       "text": [
        "<matplotlib.figure.Figure at 0x7ff837b54f50>"
       ]
      },
      {
       "metadata": {},
       "output_type": "display_data",
       "text": [
        "<matplotlib.figure.Figure at 0x7ff837b54690>"
       ]
      },
      {
       "metadata": {},
       "output_type": "display_data",
       "text": [
        "<matplotlib.figure.Figure at 0x7ff837d36a10>"
       ]
      },
      {
       "metadata": {},
       "output_type": "display_data",
       "text": [
        "<matplotlib.figure.Figure at 0x7ff837d394d0>"
       ]
      },
      {
       "metadata": {},
       "output_type": "display_data",
       "text": [
        "<matplotlib.figure.Figure at 0x7ff8380d6cd0>"
       ]
      },
      {
       "metadata": {},
       "output_type": "display_data",
       "png": "[encoded data removed]",
       "text": [
        "<matplotlib.figure.Figure at 0x7ff837bf5910>"
       ]
      }
     ],
     "prompt_number": 76
    },
    {
     "cell_type": "code",
     "collapsed": false,
     "input": [
      "print \"optimum number of features:\",final_model[0]\n",
      "print \"model with the highest score:\",final_model[2]\n",
      "print \"highest accuracy:\",final_model[1]\n",
      "print \"list of features for conditional optimality:\", final_model[3][:final_model[0]]\n",
      "# after choosing the final model we will use the full training data and apply it to the test data given\n",
      "final_model[2].fit(df[final_model[3][:final_model[0]]],df['score'])\n",
      "final_accuracy = final_model[2].score(df_test[final_model[3][:final_model[0]]],df_output['score'])\n",
      "print \"Estimated score should be within this neighborhood\",final_accuracy"
     ],
     "language": "python",
     "metadata": {},
     "outputs": [
      {
       "output_type": "stream",
       "stream": "stdout",
       "text": [
        "optimum number of features: 12\n",
        "model with the highest score: RandomForestClassifier(bootstrap=True, compute_importances=None,\n",
        "            criterion='gini', max_depth=None, max_features='auto',\n",
        "            max_leaf_nodes=None, min_density=None, min_samples_leaf=1,\n",
        "            min_samples_split=1, n_estimators=1000, n_jobs=-1,\n",
        "            oob_score=False, random_state=0, verbose=0)\n",
        "highest accuracy: 0.858683926645\n",
        "list of features for conditional optimality: ['2', '4', '5', '6', '7', '8', '11', '21', '1', '3', '9', '10']\n",
        "Estimated score should be within this neighborhood"
       ]
      },
      {
       "output_type": "stream",
       "stream": "stdout",
       "text": [
        " 0.826\n"
       ]
      }
     ],
     "prompt_number": 77
    }
   ],
   "metadata": {}
  }
 ]
}